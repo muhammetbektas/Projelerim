{
 "cells": [
  {
   "cell_type": "markdown",
   "metadata": {},
   "source": [
    "## Appliances Energy Prediction"
   ]
  },
  {
   "cell_type": "markdown",
   "metadata": {},
   "source": [
    "### Linear Regression Project"
   ]
  },
  {
   "cell_type": "markdown",
   "metadata": {},
   "source": [
    "### Contents\n",
    "\n",
    "1.Introduction\n",
    "\n",
    "2.Goal of The Project\n",
    "\n",
    "3.General View of Data\n",
    "\n",
    "4.Data Cleaning\n",
    "\n",
    "5.Exploring the Data\n",
    "\n",
    "6.Building Models\n",
    "\n",
    "7.Results"
   ]
  },
  {
   "cell_type": "markdown",
   "metadata": {},
   "source": [
    "### 1. Introduction\n",
    "We have worked on estimating appliances energy. The data set is at 10 min for about 4.5 months. The house temperature and humidity conditions were monitored with a ZigBee wireless sensor network. Each wireless node transmitted the temperature and humidity conditions around 3.3 min. Then, the wireless data was averaged for 10 minutes periods."
   ]
  },
  {
   "cell_type": "markdown",
   "metadata": {},
   "source": [
    "### 2. Goal of The Project\n",
    "In this project, we are going to build a regression model for predicting appliances energy. Target variable is energy consumption of appliances, Appliances column in data."
   ]
  },
  {
   "cell_type": "markdown",
   "metadata": {},
   "source": [
    "### 3. General View of the Data\n",
    "#### Parameters\n",
    "1. Appliances, energy use in Wh\n",
    "2. lights, energy use of light fixtures in the house in Wh\n",
    "3. T1, Temperature in kitchen area, in Celsius\n",
    "4. RH_1, Humidity in kitchen area, in %\n",
    "5. T2, Temperature in living room area, in Celsius\n",
    "6. RH_2, Humidity in living room area, in %\n",
    "7. T3, Temperature in laundry room area\n",
    "8. RH_3, Humidity in laundry room area, in %\n",
    "9. T4, Temperature in office room, in Celsius\n",
    "10. RH_4, Humidity in office room, in %\n",
    "11. T5, Temperature in bathroom, in Celsius\n",
    "12. RH_5, Humidity in bathroom, in %\n",
    "13. T6, Temperature outside the building (north side), in Celsius\n",
    "14. RH_6, Humidity outside the building (north side), in %\n",
    "15. T7, Temperature in ironing room , in Celsius\n",
    "16. RH_7, Humidity in ironing room, in %\n",
    "17. T8, Temperature in teenager room 2, in Celsius\n",
    "18. RH_8, Humidity in teenager room 2, in %\n",
    "19. T9, Temperature in parents room, in Celsius\n",
    "20. RH_9, Humidity in parents room, in %\n",
    "21. T_out, Temperature outside (from Chievres weather station), in Celsius\n",
    "22. Press_mm_hg (from Chievres weather station), in mm Hg\n",
    "23. RH_out, Humidity outside (from Chievres weather station), in %\n",
    "24. Windspeed (from Chievres weather station), in m/s\n",
    "25. Visibility (from Chievres weather station), in km\n",
    "26. Tdewpoint (from Chievres weather station), Â°C\n",
    "27. rv1, Random variable 1, nondimensional\n",
    "28. rv2, Random variable 2, nondimensional\n",
    "29. date, time year-month-day hour:minute:second\n",
    "\n",
    "\n",
    "For more information visit the page https://www.kaggle.com/loveall/appliances-energy-prediction"
   ]
  },
  {
   "cell_type": "code",
   "execution_count": 1,
   "metadata": {},
   "outputs": [],
   "source": [
    "# Importing libraries we will use."
   ]
  },
  {
   "cell_type": "code",
   "execution_count": 2,
   "metadata": {},
   "outputs": [],
   "source": [
    "import pandas as pd\n",
    "import numpy as np\n",
    "import seaborn as sns\n",
    "import matplotlib.pyplot as plt\n",
    "import warnings\n",
    "warnings.filterwarnings(\"ignore\")\n",
    "import plotly.express as px\n",
    "import statsmodels.api as sm\n",
    "from sklearn.linear_model import LinearRegression\n",
    "from sklearn.model_selection import train_test_split\n",
    "from sklearn.metrics import mean_absolute_error\n",
    "import statsmodels.api as sm\n",
    "from statsmodels.tools.eval_measures import mse, rmse\n",
    "from scipy.stats.mstats import winsorize"
   ]
  },
  {
   "cell_type": "code",
   "execution_count": 3,
   "metadata": {
    "scrolled": false
   },
   "outputs": [
    {
     "data": {
      "text/html": [
       "<div>\n",
       "<style scoped>\n",
       "    .dataframe tbody tr th:only-of-type {\n",
       "        vertical-align: middle;\n",
       "    }\n",
       "\n",
       "    .dataframe tbody tr th {\n",
       "        vertical-align: top;\n",
       "    }\n",
       "\n",
       "    .dataframe thead th {\n",
       "        text-align: right;\n",
       "    }\n",
       "</style>\n",
       "<table border=\"1\" class=\"dataframe\">\n",
       "  <thead>\n",
       "    <tr style=\"text-align: right;\">\n",
       "      <th></th>\n",
       "      <th>date</th>\n",
       "      <th>Appliances</th>\n",
       "      <th>lights</th>\n",
       "      <th>T1</th>\n",
       "      <th>RH_1</th>\n",
       "      <th>T2</th>\n",
       "      <th>RH_2</th>\n",
       "      <th>T3</th>\n",
       "      <th>RH_3</th>\n",
       "      <th>T4</th>\n",
       "      <th>...</th>\n",
       "      <th>T9</th>\n",
       "      <th>RH_9</th>\n",
       "      <th>T_out</th>\n",
       "      <th>Press_mm_hg</th>\n",
       "      <th>RH_out</th>\n",
       "      <th>Windspeed</th>\n",
       "      <th>Visibility</th>\n",
       "      <th>Tdewpoint</th>\n",
       "      <th>rv1</th>\n",
       "      <th>rv2</th>\n",
       "    </tr>\n",
       "  </thead>\n",
       "  <tbody>\n",
       "    <tr>\n",
       "      <td>0</td>\n",
       "      <td>2016-01-11 17:00:00</td>\n",
       "      <td>60</td>\n",
       "      <td>30</td>\n",
       "      <td>19.89</td>\n",
       "      <td>47.596667</td>\n",
       "      <td>19.2</td>\n",
       "      <td>44.790000</td>\n",
       "      <td>19.79</td>\n",
       "      <td>44.730000</td>\n",
       "      <td>19.000000</td>\n",
       "      <td>...</td>\n",
       "      <td>17.033333</td>\n",
       "      <td>45.53</td>\n",
       "      <td>6.600000</td>\n",
       "      <td>733.5</td>\n",
       "      <td>92.0</td>\n",
       "      <td>7.000000</td>\n",
       "      <td>63.000000</td>\n",
       "      <td>5.3</td>\n",
       "      <td>13.275433</td>\n",
       "      <td>13.275433</td>\n",
       "    </tr>\n",
       "    <tr>\n",
       "      <td>1</td>\n",
       "      <td>2016-01-11 17:10:00</td>\n",
       "      <td>60</td>\n",
       "      <td>30</td>\n",
       "      <td>19.89</td>\n",
       "      <td>46.693333</td>\n",
       "      <td>19.2</td>\n",
       "      <td>44.722500</td>\n",
       "      <td>19.79</td>\n",
       "      <td>44.790000</td>\n",
       "      <td>19.000000</td>\n",
       "      <td>...</td>\n",
       "      <td>17.066667</td>\n",
       "      <td>45.56</td>\n",
       "      <td>6.483333</td>\n",
       "      <td>733.6</td>\n",
       "      <td>92.0</td>\n",
       "      <td>6.666667</td>\n",
       "      <td>59.166667</td>\n",
       "      <td>5.2</td>\n",
       "      <td>18.606195</td>\n",
       "      <td>18.606195</td>\n",
       "    </tr>\n",
       "    <tr>\n",
       "      <td>2</td>\n",
       "      <td>2016-01-11 17:20:00</td>\n",
       "      <td>50</td>\n",
       "      <td>30</td>\n",
       "      <td>19.89</td>\n",
       "      <td>46.300000</td>\n",
       "      <td>19.2</td>\n",
       "      <td>44.626667</td>\n",
       "      <td>19.79</td>\n",
       "      <td>44.933333</td>\n",
       "      <td>18.926667</td>\n",
       "      <td>...</td>\n",
       "      <td>17.000000</td>\n",
       "      <td>45.50</td>\n",
       "      <td>6.366667</td>\n",
       "      <td>733.7</td>\n",
       "      <td>92.0</td>\n",
       "      <td>6.333333</td>\n",
       "      <td>55.333333</td>\n",
       "      <td>5.1</td>\n",
       "      <td>28.642668</td>\n",
       "      <td>28.642668</td>\n",
       "    </tr>\n",
       "  </tbody>\n",
       "</table>\n",
       "<p>3 rows × 29 columns</p>\n",
       "</div>"
      ],
      "text/plain": [
       "                  date  Appliances  lights     T1       RH_1    T2       RH_2  \\\n",
       "0  2016-01-11 17:00:00          60      30  19.89  47.596667  19.2  44.790000   \n",
       "1  2016-01-11 17:10:00          60      30  19.89  46.693333  19.2  44.722500   \n",
       "2  2016-01-11 17:20:00          50      30  19.89  46.300000  19.2  44.626667   \n",
       "\n",
       "      T3       RH_3         T4  ...         T9   RH_9     T_out  Press_mm_hg  \\\n",
       "0  19.79  44.730000  19.000000  ...  17.033333  45.53  6.600000        733.5   \n",
       "1  19.79  44.790000  19.000000  ...  17.066667  45.56  6.483333        733.6   \n",
       "2  19.79  44.933333  18.926667  ...  17.000000  45.50  6.366667        733.7   \n",
       "\n",
       "   RH_out  Windspeed  Visibility  Tdewpoint        rv1        rv2  \n",
       "0    92.0   7.000000   63.000000        5.3  13.275433  13.275433  \n",
       "1    92.0   6.666667   59.166667        5.2  18.606195  18.606195  \n",
       "2    92.0   6.333333   55.333333        5.1  28.642668  28.642668  \n",
       "\n",
       "[3 rows x 29 columns]"
      ]
     },
     "execution_count": 3,
     "metadata": {},
     "output_type": "execute_result"
    }
   ],
   "source": [
    "df=pd.read_csv('appliances-energy.csv')\n",
    "df.head(3)"
   ]
  },
  {
   "cell_type": "code",
   "execution_count": 4,
   "metadata": {},
   "outputs": [
    {
     "data": {
      "text/plain": [
       "Index(['date', 'Appliances', 'lights', 'T1', 'RH_1', 'T2', 'RH_2', 'T3',\n",
       "       'RH_3', 'T4', 'RH_4', 'T5', 'RH_5', 'T6', 'RH_6', 'T7', 'RH_7', 'T8',\n",
       "       'RH_8', 'T9', 'RH_9', 'T_out', 'Press_mm_hg', 'RH_out', 'Windspeed',\n",
       "       'Visibility', 'Tdewpoint', 'rv1', 'rv2'],\n",
       "      dtype='object')"
      ]
     },
     "execution_count": 4,
     "metadata": {},
     "output_type": "execute_result"
    }
   ],
   "source": [
    "df.columns"
   ]
  },
  {
   "cell_type": "code",
   "execution_count": 5,
   "metadata": {},
   "outputs": [
    {
     "name": "stdout",
     "output_type": "stream",
     "text": [
      "<class 'pandas.core.frame.DataFrame'>\n",
      "RangeIndex: 19735 entries, 0 to 19734\n",
      "Data columns (total 29 columns):\n",
      "date           19735 non-null object\n",
      "Appliances     19735 non-null int64\n",
      "lights         19735 non-null int64\n",
      "T1             19735 non-null float64\n",
      "RH_1           19735 non-null float64\n",
      "T2             19735 non-null float64\n",
      "RH_2           19735 non-null float64\n",
      "T3             19735 non-null float64\n",
      "RH_3           19735 non-null float64\n",
      "T4             19735 non-null float64\n",
      "RH_4           19735 non-null float64\n",
      "T5             19735 non-null float64\n",
      "RH_5           19735 non-null float64\n",
      "T6             19735 non-null float64\n",
      "RH_6           19735 non-null float64\n",
      "T7             19735 non-null float64\n",
      "RH_7           19735 non-null float64\n",
      "T8             19735 non-null float64\n",
      "RH_8           19735 non-null float64\n",
      "T9             19735 non-null float64\n",
      "RH_9           19735 non-null float64\n",
      "T_out          19735 non-null float64\n",
      "Press_mm_hg    19735 non-null float64\n",
      "RH_out         19735 non-null float64\n",
      "Windspeed      19735 non-null float64\n",
      "Visibility     19735 non-null float64\n",
      "Tdewpoint      19735 non-null float64\n",
      "rv1            19735 non-null float64\n",
      "rv2            19735 non-null float64\n",
      "dtypes: float64(26), int64(2), object(1)\n",
      "memory usage: 4.4+ MB\n"
     ]
    }
   ],
   "source": [
    "df.info()"
   ]
  },
  {
   "cell_type": "markdown",
   "metadata": {},
   "source": [
    "### 4. Data Cleaning"
   ]
  },
  {
   "cell_type": "code",
   "execution_count": 6,
   "metadata": {},
   "outputs": [
    {
     "data": {
      "text/html": [
       "<div>\n",
       "<style scoped>\n",
       "    .dataframe tbody tr th:only-of-type {\n",
       "        vertical-align: middle;\n",
       "    }\n",
       "\n",
       "    .dataframe tbody tr th {\n",
       "        vertical-align: top;\n",
       "    }\n",
       "\n",
       "    .dataframe thead th {\n",
       "        text-align: right;\n",
       "    }\n",
       "</style>\n",
       "<table border=\"1\" class=\"dataframe\">\n",
       "  <thead>\n",
       "    <tr style=\"text-align: right;\">\n",
       "      <th></th>\n",
       "      <th>Missing_Records</th>\n",
       "      <th>Percentage (%)</th>\n",
       "    </tr>\n",
       "  </thead>\n",
       "  <tbody>\n",
       "  </tbody>\n",
       "</table>\n",
       "</div>"
      ],
      "text/plain": [
       "Empty DataFrame\n",
       "Columns: [Missing_Records, Percentage (%)]\n",
       "Index: []"
      ]
     },
     "execution_count": 6,
     "metadata": {},
     "output_type": "execute_result"
    }
   ],
   "source": [
    "#Number of the null values in all columns\n",
    "def null_values(df):\n",
    "    nv=pd.concat([df.isnull().sum(), 100 * df.isnull().sum()/len(df)],\n",
    "    axis=1).rename(columns={0:'Missing_Records', 1:'Percentage (%)'})\n",
    "    return nv[nv.Missing_Records>0].sort_values('Missing_Records', ascending=False)\n",
    "null_values(df)"
   ]
  },
  {
   "cell_type": "code",
   "execution_count": 7,
   "metadata": {
    "scrolled": true
   },
   "outputs": [
    {
     "data": {
      "text/plain": [
       "0     15252\n",
       "10     2212\n",
       "20     1624\n",
       "30      559\n",
       "40       77\n",
       "50        9\n",
       "60        1\n",
       "70        1\n",
       "Name: lights, dtype: int64"
      ]
     },
     "execution_count": 7,
     "metadata": {},
     "output_type": "execute_result"
    }
   ],
   "source": [
    "df.lights.value_counts()"
   ]
  },
  {
   "cell_type": "code",
   "execution_count": 8,
   "metadata": {},
   "outputs": [],
   "source": [
    "#Due to lot of zero enteries, this column is of not much use and will be ignored in rest of the model.\n",
    "df.drop(columns='lights',axis=1,inplace=True)"
   ]
  },
  {
   "cell_type": "code",
   "execution_count": 9,
   "metadata": {},
   "outputs": [],
   "source": [
    "df['date'] = pd.to_datetime(df['date'])\n",
    "df= df.set_index('date')\n",
    "df.index.name ='time'\n",
    "df['date'] = df.index.date\n",
    "df['day'] = df.index.day\n",
    "df['month'] = df.index.month\n",
    "df['hour'] = df.index.hour"
   ]
  },
  {
   "cell_type": "code",
   "execution_count": 10,
   "metadata": {},
   "outputs": [],
   "source": [
    "# We have classified the Data Set according to month, day, hour."
   ]
  },
  {
   "cell_type": "code",
   "execution_count": 11,
   "metadata": {
    "scrolled": false
   },
   "outputs": [
    {
     "data": {
      "text/html": [
       "<div>\n",
       "<style scoped>\n",
       "    .dataframe tbody tr th:only-of-type {\n",
       "        vertical-align: middle;\n",
       "    }\n",
       "\n",
       "    .dataframe tbody tr th {\n",
       "        vertical-align: top;\n",
       "    }\n",
       "\n",
       "    .dataframe thead th {\n",
       "        text-align: right;\n",
       "    }\n",
       "</style>\n",
       "<table border=\"1\" class=\"dataframe\">\n",
       "  <thead>\n",
       "    <tr style=\"text-align: right;\">\n",
       "      <th></th>\n",
       "      <th></th>\n",
       "      <th></th>\n",
       "      <th>Appliances</th>\n",
       "      <th>T1</th>\n",
       "      <th>RH_1</th>\n",
       "      <th>T2</th>\n",
       "      <th>RH_2</th>\n",
       "      <th>T3</th>\n",
       "      <th>RH_3</th>\n",
       "      <th>T4</th>\n",
       "      <th>RH_4</th>\n",
       "      <th>T5</th>\n",
       "      <th>...</th>\n",
       "      <th>T9</th>\n",
       "      <th>RH_9</th>\n",
       "      <th>T_out</th>\n",
       "      <th>Press_mm_hg</th>\n",
       "      <th>RH_out</th>\n",
       "      <th>Windspeed</th>\n",
       "      <th>Visibility</th>\n",
       "      <th>Tdewpoint</th>\n",
       "      <th>rv1</th>\n",
       "      <th>rv2</th>\n",
       "    </tr>\n",
       "    <tr>\n",
       "      <th>month</th>\n",
       "      <th>day</th>\n",
       "      <th>hour</th>\n",
       "      <th></th>\n",
       "      <th></th>\n",
       "      <th></th>\n",
       "      <th></th>\n",
       "      <th></th>\n",
       "      <th></th>\n",
       "      <th></th>\n",
       "      <th></th>\n",
       "      <th></th>\n",
       "      <th></th>\n",
       "      <th></th>\n",
       "      <th></th>\n",
       "      <th></th>\n",
       "      <th></th>\n",
       "      <th></th>\n",
       "      <th></th>\n",
       "      <th></th>\n",
       "      <th></th>\n",
       "      <th></th>\n",
       "      <th></th>\n",
       "      <th></th>\n",
       "    </tr>\n",
       "  </thead>\n",
       "  <tbody>\n",
       "    <tr>\n",
       "      <td rowspan=\"10\" valign=\"top\">1</td>\n",
       "      <td rowspan=\"7\" valign=\"top\">11</td>\n",
       "      <td>17</td>\n",
       "      <td>330</td>\n",
       "      <td>19.890000</td>\n",
       "      <td>46.502778</td>\n",
       "      <td>19.200000</td>\n",
       "      <td>44.626528</td>\n",
       "      <td>19.790000</td>\n",
       "      <td>44.897778</td>\n",
       "      <td>18.932778</td>\n",
       "      <td>45.738750</td>\n",
       "      <td>17.166667</td>\n",
       "      <td>...</td>\n",
       "      <td>17.016667</td>\n",
       "      <td>45.446667</td>\n",
       "      <td>6.308333</td>\n",
       "      <td>733.750000</td>\n",
       "      <td>92.000000</td>\n",
       "      <td>6.166667</td>\n",
       "      <td>53.416667</td>\n",
       "      <td>5.050000</td>\n",
       "      <td>26.823044</td>\n",
       "      <td>26.823044</td>\n",
       "    </tr>\n",
       "    <tr>\n",
       "      <td>18</td>\n",
       "      <td>1060</td>\n",
       "      <td>19.897778</td>\n",
       "      <td>45.879028</td>\n",
       "      <td>19.268889</td>\n",
       "      <td>44.438889</td>\n",
       "      <td>19.770000</td>\n",
       "      <td>44.863333</td>\n",
       "      <td>18.908333</td>\n",
       "      <td>46.066667</td>\n",
       "      <td>17.111111</td>\n",
       "      <td>...</td>\n",
       "      <td>16.981667</td>\n",
       "      <td>45.290000</td>\n",
       "      <td>5.941667</td>\n",
       "      <td>734.266667</td>\n",
       "      <td>91.583333</td>\n",
       "      <td>5.416667</td>\n",
       "      <td>40.000000</td>\n",
       "      <td>4.658333</td>\n",
       "      <td>22.324206</td>\n",
       "      <td>22.324206</td>\n",
       "    </tr>\n",
       "    <tr>\n",
       "      <td>19</td>\n",
       "      <td>1040</td>\n",
       "      <td>20.495556</td>\n",
       "      <td>52.805556</td>\n",
       "      <td>19.925556</td>\n",
       "      <td>46.061667</td>\n",
       "      <td>20.052222</td>\n",
       "      <td>47.227361</td>\n",
       "      <td>18.969444</td>\n",
       "      <td>47.815556</td>\n",
       "      <td>17.136111</td>\n",
       "      <td>...</td>\n",
       "      <td>16.902222</td>\n",
       "      <td>45.311389</td>\n",
       "      <td>6.000000</td>\n",
       "      <td>734.791667</td>\n",
       "      <td>89.750000</td>\n",
       "      <td>6.000000</td>\n",
       "      <td>40.000000</td>\n",
       "      <td>4.391667</td>\n",
       "      <td>33.734932</td>\n",
       "      <td>33.734932</td>\n",
       "    </tr>\n",
       "    <tr>\n",
       "      <td>20</td>\n",
       "      <td>750</td>\n",
       "      <td>20.961111</td>\n",
       "      <td>48.453333</td>\n",
       "      <td>20.251111</td>\n",
       "      <td>45.632639</td>\n",
       "      <td>20.213889</td>\n",
       "      <td>47.268889</td>\n",
       "      <td>19.190833</td>\n",
       "      <td>49.227917</td>\n",
       "      <td>17.615556</td>\n",
       "      <td>...</td>\n",
       "      <td>16.890000</td>\n",
       "      <td>45.118889</td>\n",
       "      <td>6.000000</td>\n",
       "      <td>735.283333</td>\n",
       "      <td>87.583333</td>\n",
       "      <td>6.000000</td>\n",
       "      <td>40.000000</td>\n",
       "      <td>4.016667</td>\n",
       "      <td>25.679642</td>\n",
       "      <td>25.679642</td>\n",
       "    </tr>\n",
       "    <tr>\n",
       "      <td>21</td>\n",
       "      <td>620</td>\n",
       "      <td>21.311667</td>\n",
       "      <td>45.768333</td>\n",
       "      <td>20.587778</td>\n",
       "      <td>44.961111</td>\n",
       "      <td>20.373333</td>\n",
       "      <td>46.164444</td>\n",
       "      <td>19.425556</td>\n",
       "      <td>47.918889</td>\n",
       "      <td>18.427222</td>\n",
       "      <td>...</td>\n",
       "      <td>16.890000</td>\n",
       "      <td>44.807778</td>\n",
       "      <td>5.833333</td>\n",
       "      <td>735.566667</td>\n",
       "      <td>87.416667</td>\n",
       "      <td>6.000000</td>\n",
       "      <td>40.000000</td>\n",
       "      <td>3.816667</td>\n",
       "      <td>18.826274</td>\n",
       "      <td>18.826274</td>\n",
       "    </tr>\n",
       "    <tr>\n",
       "      <td>22</td>\n",
       "      <td>1600</td>\n",
       "      <td>21.572222</td>\n",
       "      <td>44.663333</td>\n",
       "      <td>20.905556</td>\n",
       "      <td>44.118889</td>\n",
       "      <td>20.469444</td>\n",
       "      <td>45.829444</td>\n",
       "      <td>20.108889</td>\n",
       "      <td>47.506667</td>\n",
       "      <td>19.112917</td>\n",
       "      <td>...</td>\n",
       "      <td>16.856667</td>\n",
       "      <td>44.527639</td>\n",
       "      <td>5.725000</td>\n",
       "      <td>736.008333</td>\n",
       "      <td>87.583333</td>\n",
       "      <td>6.416667</td>\n",
       "      <td>40.000000</td>\n",
       "      <td>3.741667</td>\n",
       "      <td>27.143708</td>\n",
       "      <td>27.143708</td>\n",
       "    </tr>\n",
       "    <tr>\n",
       "      <td>23</td>\n",
       "      <td>340</td>\n",
       "      <td>21.531667</td>\n",
       "      <td>44.271111</td>\n",
       "      <td>20.934444</td>\n",
       "      <td>43.712500</td>\n",
       "      <td>20.317917</td>\n",
       "      <td>45.695833</td>\n",
       "      <td>20.909722</td>\n",
       "      <td>46.551250</td>\n",
       "      <td>19.275000</td>\n",
       "      <td>...</td>\n",
       "      <td>16.890000</td>\n",
       "      <td>45.241111</td>\n",
       "      <td>5.650000</td>\n",
       "      <td>736.550000</td>\n",
       "      <td>89.083333</td>\n",
       "      <td>6.583333</td>\n",
       "      <td>32.500000</td>\n",
       "      <td>3.925000</td>\n",
       "      <td>29.209795</td>\n",
       "      <td>29.209795</td>\n",
       "    </tr>\n",
       "    <tr>\n",
       "      <td rowspan=\"3\" valign=\"top\">12</td>\n",
       "      <td>0</td>\n",
       "      <td>850</td>\n",
       "      <td>21.266111</td>\n",
       "      <td>44.960556</td>\n",
       "      <td>20.637222</td>\n",
       "      <td>44.018333</td>\n",
       "      <td>20.144444</td>\n",
       "      <td>45.542222</td>\n",
       "      <td>20.514444</td>\n",
       "      <td>47.112778</td>\n",
       "      <td>19.155556</td>\n",
       "      <td>...</td>\n",
       "      <td>16.890000</td>\n",
       "      <td>45.875000</td>\n",
       "      <td>5.216667</td>\n",
       "      <td>737.150000</td>\n",
       "      <td>92.000000</td>\n",
       "      <td>6.000000</td>\n",
       "      <td>29.500000</td>\n",
       "      <td>4.016667</td>\n",
       "      <td>26.296718</td>\n",
       "      <td>26.296718</td>\n",
       "    </tr>\n",
       "    <tr>\n",
       "      <td>1</td>\n",
       "      <td>1010</td>\n",
       "      <td>20.963611</td>\n",
       "      <td>45.613194</td>\n",
       "      <td>20.333333</td>\n",
       "      <td>44.273333</td>\n",
       "      <td>20.133333</td>\n",
       "      <td>45.540000</td>\n",
       "      <td>21.505556</td>\n",
       "      <td>46.946667</td>\n",
       "      <td>18.969444</td>\n",
       "      <td>...</td>\n",
       "      <td>16.890000</td>\n",
       "      <td>46.307778</td>\n",
       "      <td>5.141667</td>\n",
       "      <td>737.833333</td>\n",
       "      <td>92.000000</td>\n",
       "      <td>5.583333</td>\n",
       "      <td>40.000000</td>\n",
       "      <td>3.941667</td>\n",
       "      <td>28.723073</td>\n",
       "      <td>28.723073</td>\n",
       "    </tr>\n",
       "    <tr>\n",
       "      <td>2</td>\n",
       "      <td>270</td>\n",
       "      <td>20.696667</td>\n",
       "      <td>46.197778</td>\n",
       "      <td>20.066667</td>\n",
       "      <td>44.503333</td>\n",
       "      <td>20.170833</td>\n",
       "      <td>45.454167</td>\n",
       "      <td>21.143056</td>\n",
       "      <td>45.905556</td>\n",
       "      <td>18.813333</td>\n",
       "      <td>...</td>\n",
       "      <td>16.975556</td>\n",
       "      <td>47.263333</td>\n",
       "      <td>5.033333</td>\n",
       "      <td>738.550000</td>\n",
       "      <td>92.000000</td>\n",
       "      <td>4.583333</td>\n",
       "      <td>40.000000</td>\n",
       "      <td>3.833333</td>\n",
       "      <td>17.282387</td>\n",
       "      <td>17.282387</td>\n",
       "    </tr>\n",
       "  </tbody>\n",
       "</table>\n",
       "<p>10 rows × 27 columns</p>\n",
       "</div>"
      ],
      "text/plain": [
       "                Appliances         T1       RH_1         T2       RH_2  \\\n",
       "month day hour                                                           \n",
       "1     11  17           330  19.890000  46.502778  19.200000  44.626528   \n",
       "          18          1060  19.897778  45.879028  19.268889  44.438889   \n",
       "          19          1040  20.495556  52.805556  19.925556  46.061667   \n",
       "          20           750  20.961111  48.453333  20.251111  45.632639   \n",
       "          21           620  21.311667  45.768333  20.587778  44.961111   \n",
       "          22          1600  21.572222  44.663333  20.905556  44.118889   \n",
       "          23           340  21.531667  44.271111  20.934444  43.712500   \n",
       "      12  0            850  21.266111  44.960556  20.637222  44.018333   \n",
       "          1           1010  20.963611  45.613194  20.333333  44.273333   \n",
       "          2            270  20.696667  46.197778  20.066667  44.503333   \n",
       "\n",
       "                       T3       RH_3         T4       RH_4         T5  ...  \\\n",
       "month day hour                                                         ...   \n",
       "1     11  17    19.790000  44.897778  18.932778  45.738750  17.166667  ...   \n",
       "          18    19.770000  44.863333  18.908333  46.066667  17.111111  ...   \n",
       "          19    20.052222  47.227361  18.969444  47.815556  17.136111  ...   \n",
       "          20    20.213889  47.268889  19.190833  49.227917  17.615556  ...   \n",
       "          21    20.373333  46.164444  19.425556  47.918889  18.427222  ...   \n",
       "          22    20.469444  45.829444  20.108889  47.506667  19.112917  ...   \n",
       "          23    20.317917  45.695833  20.909722  46.551250  19.275000  ...   \n",
       "      12  0     20.144444  45.542222  20.514444  47.112778  19.155556  ...   \n",
       "          1     20.133333  45.540000  21.505556  46.946667  18.969444  ...   \n",
       "          2     20.170833  45.454167  21.143056  45.905556  18.813333  ...   \n",
       "\n",
       "                       T9       RH_9     T_out  Press_mm_hg     RH_out  \\\n",
       "month day hour                                                           \n",
       "1     11  17    17.016667  45.446667  6.308333   733.750000  92.000000   \n",
       "          18    16.981667  45.290000  5.941667   734.266667  91.583333   \n",
       "          19    16.902222  45.311389  6.000000   734.791667  89.750000   \n",
       "          20    16.890000  45.118889  6.000000   735.283333  87.583333   \n",
       "          21    16.890000  44.807778  5.833333   735.566667  87.416667   \n",
       "          22    16.856667  44.527639  5.725000   736.008333  87.583333   \n",
       "          23    16.890000  45.241111  5.650000   736.550000  89.083333   \n",
       "      12  0     16.890000  45.875000  5.216667   737.150000  92.000000   \n",
       "          1     16.890000  46.307778  5.141667   737.833333  92.000000   \n",
       "          2     16.975556  47.263333  5.033333   738.550000  92.000000   \n",
       "\n",
       "                Windspeed  Visibility  Tdewpoint        rv1        rv2  \n",
       "month day hour                                                          \n",
       "1     11  17     6.166667   53.416667   5.050000  26.823044  26.823044  \n",
       "          18     5.416667   40.000000   4.658333  22.324206  22.324206  \n",
       "          19     6.000000   40.000000   4.391667  33.734932  33.734932  \n",
       "          20     6.000000   40.000000   4.016667  25.679642  25.679642  \n",
       "          21     6.000000   40.000000   3.816667  18.826274  18.826274  \n",
       "          22     6.416667   40.000000   3.741667  27.143708  27.143708  \n",
       "          23     6.583333   32.500000   3.925000  29.209795  29.209795  \n",
       "      12  0      6.000000   29.500000   4.016667  26.296718  26.296718  \n",
       "          1      5.583333   40.000000   3.941667  28.723073  28.723073  \n",
       "          2      4.583333   40.000000   3.833333  17.282387  17.282387  \n",
       "\n",
       "[10 rows x 27 columns]"
      ]
     },
     "execution_count": 11,
     "metadata": {},
     "output_type": "execute_result"
    }
   ],
   "source": [
    "df2=pd.concat([df.groupby(['month','day','hour']).Appliances.sum(),\n",
    "           df.groupby(['month','day','hour']).mean().drop('Appliances',axis=1)],axis=1)\n",
    "df2.head(10)"
   ]
  },
  {
   "cell_type": "code",
   "execution_count": 12,
   "metadata": {
    "scrolled": true
   },
   "outputs": [
    {
     "name": "stdout",
     "output_type": "stream",
     "text": [
      "T6\n",
      "T_out\n",
      "Tdewpoint\n"
     ]
    }
   ],
   "source": [
    "for i in df2.columns:\n",
    "    if any(df2[i]<0):\n",
    "        print(i)"
   ]
  },
  {
   "cell_type": "code",
   "execution_count": 13,
   "metadata": {},
   "outputs": [],
   "source": [
    "# We have found negative values in Data Frame. For this reason, we are going to conversion temperatures from celcius to kelvin."
   ]
  },
  {
   "cell_type": "code",
   "execution_count": 14,
   "metadata": {},
   "outputs": [],
   "source": [
    "def f(x):\n",
    "    x = x +273.15\n",
    "    return x"
   ]
  },
  {
   "cell_type": "code",
   "execution_count": 15,
   "metadata": {
    "scrolled": true
   },
   "outputs": [
    {
     "data": {
      "text/html": [
       "<div>\n",
       "<style scoped>\n",
       "    .dataframe tbody tr th:only-of-type {\n",
       "        vertical-align: middle;\n",
       "    }\n",
       "\n",
       "    .dataframe tbody tr th {\n",
       "        vertical-align: top;\n",
       "    }\n",
       "\n",
       "    .dataframe thead th {\n",
       "        text-align: right;\n",
       "    }\n",
       "</style>\n",
       "<table border=\"1\" class=\"dataframe\">\n",
       "  <thead>\n",
       "    <tr style=\"text-align: right;\">\n",
       "      <th></th>\n",
       "      <th></th>\n",
       "      <th></th>\n",
       "      <th>Appliances</th>\n",
       "      <th>T1</th>\n",
       "      <th>RH_1</th>\n",
       "      <th>T2</th>\n",
       "      <th>RH_2</th>\n",
       "      <th>T3</th>\n",
       "      <th>RH_3</th>\n",
       "      <th>T4</th>\n",
       "      <th>RH_4</th>\n",
       "      <th>T5</th>\n",
       "      <th>...</th>\n",
       "      <th>T9</th>\n",
       "      <th>RH_9</th>\n",
       "      <th>T_out</th>\n",
       "      <th>Press_mm_hg</th>\n",
       "      <th>RH_out</th>\n",
       "      <th>Windspeed</th>\n",
       "      <th>Visibility</th>\n",
       "      <th>Tdewpoint</th>\n",
       "      <th>rv1</th>\n",
       "      <th>rv2</th>\n",
       "    </tr>\n",
       "    <tr>\n",
       "      <th>month</th>\n",
       "      <th>day</th>\n",
       "      <th>hour</th>\n",
       "      <th></th>\n",
       "      <th></th>\n",
       "      <th></th>\n",
       "      <th></th>\n",
       "      <th></th>\n",
       "      <th></th>\n",
       "      <th></th>\n",
       "      <th></th>\n",
       "      <th></th>\n",
       "      <th></th>\n",
       "      <th></th>\n",
       "      <th></th>\n",
       "      <th></th>\n",
       "      <th></th>\n",
       "      <th></th>\n",
       "      <th></th>\n",
       "      <th></th>\n",
       "      <th></th>\n",
       "      <th></th>\n",
       "      <th></th>\n",
       "      <th></th>\n",
       "    </tr>\n",
       "  </thead>\n",
       "  <tbody>\n",
       "    <tr>\n",
       "      <td rowspan=\"5\" valign=\"top\">1</td>\n",
       "      <td rowspan=\"5\" valign=\"top\">11</td>\n",
       "      <td>17</td>\n",
       "      <td>330</td>\n",
       "      <td>293.040000</td>\n",
       "      <td>46.502778</td>\n",
       "      <td>292.350000</td>\n",
       "      <td>44.626528</td>\n",
       "      <td>292.940000</td>\n",
       "      <td>44.897778</td>\n",
       "      <td>292.082778</td>\n",
       "      <td>45.738750</td>\n",
       "      <td>290.316667</td>\n",
       "      <td>...</td>\n",
       "      <td>290.166667</td>\n",
       "      <td>45.446667</td>\n",
       "      <td>279.458333</td>\n",
       "      <td>733.750000</td>\n",
       "      <td>92.000000</td>\n",
       "      <td>6.166667</td>\n",
       "      <td>53.416667</td>\n",
       "      <td>278.200000</td>\n",
       "      <td>26.823044</td>\n",
       "      <td>26.823044</td>\n",
       "    </tr>\n",
       "    <tr>\n",
       "      <td>18</td>\n",
       "      <td>1060</td>\n",
       "      <td>293.047778</td>\n",
       "      <td>45.879028</td>\n",
       "      <td>292.418889</td>\n",
       "      <td>44.438889</td>\n",
       "      <td>292.920000</td>\n",
       "      <td>44.863333</td>\n",
       "      <td>292.058333</td>\n",
       "      <td>46.066667</td>\n",
       "      <td>290.261111</td>\n",
       "      <td>...</td>\n",
       "      <td>290.131667</td>\n",
       "      <td>45.290000</td>\n",
       "      <td>279.091667</td>\n",
       "      <td>734.266667</td>\n",
       "      <td>91.583333</td>\n",
       "      <td>5.416667</td>\n",
       "      <td>40.000000</td>\n",
       "      <td>277.808333</td>\n",
       "      <td>22.324206</td>\n",
       "      <td>22.324206</td>\n",
       "    </tr>\n",
       "    <tr>\n",
       "      <td>19</td>\n",
       "      <td>1040</td>\n",
       "      <td>293.645556</td>\n",
       "      <td>52.805556</td>\n",
       "      <td>293.075556</td>\n",
       "      <td>46.061667</td>\n",
       "      <td>293.202222</td>\n",
       "      <td>47.227361</td>\n",
       "      <td>292.119444</td>\n",
       "      <td>47.815556</td>\n",
       "      <td>290.286111</td>\n",
       "      <td>...</td>\n",
       "      <td>290.052222</td>\n",
       "      <td>45.311389</td>\n",
       "      <td>279.150000</td>\n",
       "      <td>734.791667</td>\n",
       "      <td>89.750000</td>\n",
       "      <td>6.000000</td>\n",
       "      <td>40.000000</td>\n",
       "      <td>277.541667</td>\n",
       "      <td>33.734932</td>\n",
       "      <td>33.734932</td>\n",
       "    </tr>\n",
       "    <tr>\n",
       "      <td>20</td>\n",
       "      <td>750</td>\n",
       "      <td>294.111111</td>\n",
       "      <td>48.453333</td>\n",
       "      <td>293.401111</td>\n",
       "      <td>45.632639</td>\n",
       "      <td>293.363889</td>\n",
       "      <td>47.268889</td>\n",
       "      <td>292.340833</td>\n",
       "      <td>49.227917</td>\n",
       "      <td>290.765556</td>\n",
       "      <td>...</td>\n",
       "      <td>290.040000</td>\n",
       "      <td>45.118889</td>\n",
       "      <td>279.150000</td>\n",
       "      <td>735.283333</td>\n",
       "      <td>87.583333</td>\n",
       "      <td>6.000000</td>\n",
       "      <td>40.000000</td>\n",
       "      <td>277.166667</td>\n",
       "      <td>25.679642</td>\n",
       "      <td>25.679642</td>\n",
       "    </tr>\n",
       "    <tr>\n",
       "      <td>21</td>\n",
       "      <td>620</td>\n",
       "      <td>294.461667</td>\n",
       "      <td>45.768333</td>\n",
       "      <td>293.737778</td>\n",
       "      <td>44.961111</td>\n",
       "      <td>293.523333</td>\n",
       "      <td>46.164444</td>\n",
       "      <td>292.575556</td>\n",
       "      <td>47.918889</td>\n",
       "      <td>291.577222</td>\n",
       "      <td>...</td>\n",
       "      <td>290.040000</td>\n",
       "      <td>44.807778</td>\n",
       "      <td>278.983333</td>\n",
       "      <td>735.566667</td>\n",
       "      <td>87.416667</td>\n",
       "      <td>6.000000</td>\n",
       "      <td>40.000000</td>\n",
       "      <td>276.966667</td>\n",
       "      <td>18.826274</td>\n",
       "      <td>18.826274</td>\n",
       "    </tr>\n",
       "    <tr>\n",
       "      <td>...</td>\n",
       "      <td>...</td>\n",
       "      <td>...</td>\n",
       "      <td>...</td>\n",
       "      <td>...</td>\n",
       "      <td>...</td>\n",
       "      <td>...</td>\n",
       "      <td>...</td>\n",
       "      <td>...</td>\n",
       "      <td>...</td>\n",
       "      <td>...</td>\n",
       "      <td>...</td>\n",
       "      <td>...</td>\n",
       "      <td>...</td>\n",
       "      <td>...</td>\n",
       "      <td>...</td>\n",
       "      <td>...</td>\n",
       "      <td>...</td>\n",
       "      <td>...</td>\n",
       "      <td>...</td>\n",
       "      <td>...</td>\n",
       "      <td>...</td>\n",
       "      <td>...</td>\n",
       "      <td>...</td>\n",
       "    </tr>\n",
       "    <tr>\n",
       "      <td rowspan=\"5\" valign=\"top\">5</td>\n",
       "      <td rowspan=\"5\" valign=\"top\">27</td>\n",
       "      <td>14</td>\n",
       "      <td>610</td>\n",
       "      <td>298.694444</td>\n",
       "      <td>46.638889</td>\n",
       "      <td>299.571369</td>\n",
       "      <td>41.205054</td>\n",
       "      <td>301.547778</td>\n",
       "      <td>41.160000</td>\n",
       "      <td>297.816667</td>\n",
       "      <td>45.883889</td>\n",
       "      <td>296.040000</td>\n",
       "      <td>...</td>\n",
       "      <td>296.250000</td>\n",
       "      <td>46.594444</td>\n",
       "      <td>295.066667</td>\n",
       "      <td>755.800000</td>\n",
       "      <td>59.000000</td>\n",
       "      <td>2.000000</td>\n",
       "      <td>21.583333</td>\n",
       "      <td>286.625000</td>\n",
       "      <td>27.553946</td>\n",
       "      <td>27.553946</td>\n",
       "    </tr>\n",
       "    <tr>\n",
       "      <td>15</td>\n",
       "      <td>460</td>\n",
       "      <td>298.650000</td>\n",
       "      <td>45.677639</td>\n",
       "      <td>299.304762</td>\n",
       "      <td>41.041238</td>\n",
       "      <td>301.390000</td>\n",
       "      <td>40.306667</td>\n",
       "      <td>297.844444</td>\n",
       "      <td>45.270000</td>\n",
       "      <td>296.157500</td>\n",
       "      <td>...</td>\n",
       "      <td>296.288889</td>\n",
       "      <td>46.590000</td>\n",
       "      <td>295.366667</td>\n",
       "      <td>755.675000</td>\n",
       "      <td>57.333333</td>\n",
       "      <td>2.000000</td>\n",
       "      <td>21.833333</td>\n",
       "      <td>286.408333</td>\n",
       "      <td>25.429025</td>\n",
       "      <td>25.429025</td>\n",
       "    </tr>\n",
       "    <tr>\n",
       "      <td>16</td>\n",
       "      <td>810</td>\n",
       "      <td>298.637778</td>\n",
       "      <td>46.250000</td>\n",
       "      <td>299.150000</td>\n",
       "      <td>41.736190</td>\n",
       "      <td>301.103333</td>\n",
       "      <td>40.607778</td>\n",
       "      <td>297.850000</td>\n",
       "      <td>45.476667</td>\n",
       "      <td>296.300000</td>\n",
       "      <td>...</td>\n",
       "      <td>296.343333</td>\n",
       "      <td>46.645381</td>\n",
       "      <td>296.033333</td>\n",
       "      <td>755.375000</td>\n",
       "      <td>55.000000</td>\n",
       "      <td>2.416667</td>\n",
       "      <td>22.583333</td>\n",
       "      <td>286.433333</td>\n",
       "      <td>23.229344</td>\n",
       "      <td>23.229344</td>\n",
       "    </tr>\n",
       "    <tr>\n",
       "      <td>17</td>\n",
       "      <td>1080</td>\n",
       "      <td>298.683333</td>\n",
       "      <td>46.783333</td>\n",
       "      <td>298.922190</td>\n",
       "      <td>42.495476</td>\n",
       "      <td>300.314444</td>\n",
       "      <td>41.247778</td>\n",
       "      <td>297.850000</td>\n",
       "      <td>45.658889</td>\n",
       "      <td>296.360000</td>\n",
       "      <td>...</td>\n",
       "      <td>296.350000</td>\n",
       "      <td>46.780655</td>\n",
       "      <td>295.816667</td>\n",
       "      <td>755.200000</td>\n",
       "      <td>55.833333</td>\n",
       "      <td>3.416667</td>\n",
       "      <td>24.083333</td>\n",
       "      <td>286.466667</td>\n",
       "      <td>27.186003</td>\n",
       "      <td>27.186003</td>\n",
       "    </tr>\n",
       "    <tr>\n",
       "      <td>18</td>\n",
       "      <td>430</td>\n",
       "      <td>298.650000</td>\n",
       "      <td>46.600000</td>\n",
       "      <td>298.414286</td>\n",
       "      <td>42.971429</td>\n",
       "      <td>299.973333</td>\n",
       "      <td>41.156667</td>\n",
       "      <td>297.850000</td>\n",
       "      <td>45.963333</td>\n",
       "      <td>296.350000</td>\n",
       "      <td>...</td>\n",
       "      <td>296.350000</td>\n",
       "      <td>46.845000</td>\n",
       "      <td>295.350000</td>\n",
       "      <td>755.200000</td>\n",
       "      <td>57.000000</td>\n",
       "      <td>4.000000</td>\n",
       "      <td>27.000000</td>\n",
       "      <td>286.350000</td>\n",
       "      <td>34.118851</td>\n",
       "      <td>34.118851</td>\n",
       "    </tr>\n",
       "  </tbody>\n",
       "</table>\n",
       "<p>3290 rows × 27 columns</p>\n",
       "</div>"
      ],
      "text/plain": [
       "                Appliances          T1       RH_1          T2       RH_2  \\\n",
       "month day hour                                                             \n",
       "1     11  17           330  293.040000  46.502778  292.350000  44.626528   \n",
       "          18          1060  293.047778  45.879028  292.418889  44.438889   \n",
       "          19          1040  293.645556  52.805556  293.075556  46.061667   \n",
       "          20           750  294.111111  48.453333  293.401111  45.632639   \n",
       "          21           620  294.461667  45.768333  293.737778  44.961111   \n",
       "...                    ...         ...        ...         ...        ...   \n",
       "5     27  14           610  298.694444  46.638889  299.571369  41.205054   \n",
       "          15           460  298.650000  45.677639  299.304762  41.041238   \n",
       "          16           810  298.637778  46.250000  299.150000  41.736190   \n",
       "          17          1080  298.683333  46.783333  298.922190  42.495476   \n",
       "          18           430  298.650000  46.600000  298.414286  42.971429   \n",
       "\n",
       "                        T3       RH_3          T4       RH_4          T5  ...  \\\n",
       "month day hour                                                            ...   \n",
       "1     11  17    292.940000  44.897778  292.082778  45.738750  290.316667  ...   \n",
       "          18    292.920000  44.863333  292.058333  46.066667  290.261111  ...   \n",
       "          19    293.202222  47.227361  292.119444  47.815556  290.286111  ...   \n",
       "          20    293.363889  47.268889  292.340833  49.227917  290.765556  ...   \n",
       "          21    293.523333  46.164444  292.575556  47.918889  291.577222  ...   \n",
       "...                    ...        ...         ...        ...         ...  ...   \n",
       "5     27  14    301.547778  41.160000  297.816667  45.883889  296.040000  ...   \n",
       "          15    301.390000  40.306667  297.844444  45.270000  296.157500  ...   \n",
       "          16    301.103333  40.607778  297.850000  45.476667  296.300000  ...   \n",
       "          17    300.314444  41.247778  297.850000  45.658889  296.360000  ...   \n",
       "          18    299.973333  41.156667  297.850000  45.963333  296.350000  ...   \n",
       "\n",
       "                        T9       RH_9       T_out  Press_mm_hg     RH_out  \\\n",
       "month day hour                                                              \n",
       "1     11  17    290.166667  45.446667  279.458333   733.750000  92.000000   \n",
       "          18    290.131667  45.290000  279.091667   734.266667  91.583333   \n",
       "          19    290.052222  45.311389  279.150000   734.791667  89.750000   \n",
       "          20    290.040000  45.118889  279.150000   735.283333  87.583333   \n",
       "          21    290.040000  44.807778  278.983333   735.566667  87.416667   \n",
       "...                    ...        ...         ...          ...        ...   \n",
       "5     27  14    296.250000  46.594444  295.066667   755.800000  59.000000   \n",
       "          15    296.288889  46.590000  295.366667   755.675000  57.333333   \n",
       "          16    296.343333  46.645381  296.033333   755.375000  55.000000   \n",
       "          17    296.350000  46.780655  295.816667   755.200000  55.833333   \n",
       "          18    296.350000  46.845000  295.350000   755.200000  57.000000   \n",
       "\n",
       "                Windspeed  Visibility   Tdewpoint        rv1        rv2  \n",
       "month day hour                                                           \n",
       "1     11  17     6.166667   53.416667  278.200000  26.823044  26.823044  \n",
       "          18     5.416667   40.000000  277.808333  22.324206  22.324206  \n",
       "          19     6.000000   40.000000  277.541667  33.734932  33.734932  \n",
       "          20     6.000000   40.000000  277.166667  25.679642  25.679642  \n",
       "          21     6.000000   40.000000  276.966667  18.826274  18.826274  \n",
       "...                   ...         ...         ...        ...        ...  \n",
       "5     27  14     2.000000   21.583333  286.625000  27.553946  27.553946  \n",
       "          15     2.000000   21.833333  286.408333  25.429025  25.429025  \n",
       "          16     2.416667   22.583333  286.433333  23.229344  23.229344  \n",
       "          17     3.416667   24.083333  286.466667  27.186003  27.186003  \n",
       "          18     4.000000   27.000000  286.350000  34.118851  34.118851  \n",
       "\n",
       "[3290 rows x 27 columns]"
      ]
     },
     "execution_count": 15,
     "metadata": {},
     "output_type": "execute_result"
    }
   ],
   "source": [
    "dfk=df2.copy()\n",
    "temp_list=['T1','T2','T3','T4','T6','T5','T7','T8','T9','T_out','Tdewpoint']\n",
    "for i in temp_list:\n",
    "    dfk[i] = dfk[i].apply(f)\n",
    "dfk"
   ]
  },
  {
   "cell_type": "code",
   "execution_count": 16,
   "metadata": {},
   "outputs": [],
   "source": [
    "# There isn't any negative value.\n",
    "for i in dfk.columns:\n",
    "    if any(dfk[i]<0):\n",
    "        print(i)"
   ]
  },
  {
   "cell_type": "markdown",
   "metadata": {},
   "source": [
    "#### Get rid of outliers.\n",
    "We are trying to handle outliers of continuous variables here."
   ]
  },
  {
   "cell_type": "code",
   "execution_count": 17,
   "metadata": {
    "scrolled": false
   },
   "outputs": [
    {
     "data": {
      "text/plain": [
       "<Figure size 432x288 with 0 Axes>"
      ]
     },
     "metadata": {},
     "output_type": "display_data"
    },
    {
     "data": {
      "image/png": "[encoded data removed]",
      "text/plain": [
       "<Figure size 1080x7200 with 27 Axes>"
      ]
     },
     "metadata": {
      "needs_background": "light"
     },
     "output_type": "display_data"
    }
   ],
   "source": [
    "plt.subplots_adjust(bottom = 0.5, wspace = 0.5, hspace = 0.5)\n",
    "plt.figure(figsize = (15,100))\n",
    "for i in range(1,28):\n",
    "    plt.subplots_adjust(bottom = 0.6, wspace = 0.5, hspace = 0.5)\n",
    "    plt.subplot(9, 4, i)\n",
    "    plt.xlabel(dfk.columns[i-1])\n",
    "    plt.boxplot(dfk.columns[i-1],data=dfk, patch_artist=True)\n",
    "plt.show()"
   ]
  },
  {
   "cell_type": "code",
   "execution_count": 18,
   "metadata": {
    "scrolled": false
   },
   "outputs": [
    {
     "data": {
      "text/plain": [
       "Appliances     345\n",
       "T1              75\n",
       "RH_1            21\n",
       "T2              96\n",
       "RH_2            41\n",
       "T3              33\n",
       "RH_3             1\n",
       "T4              35\n",
       "RH_4             0\n",
       "T5              28\n",
       "RH_5           209\n",
       "T6              86\n",
       "RH_6             0\n",
       "T7               0\n",
       "RH_7             5\n",
       "T8              12\n",
       "RH_8             3\n",
       "T9               2\n",
       "RH_9             4\n",
       "T_out           71\n",
       "Press_mm_hg     36\n",
       "RH_out          43\n",
       "Windspeed       38\n",
       "Visibility     443\n",
       "Tdewpoint        1\n",
       "rv1             12\n",
       "rv2             12\n",
       "dtype: int64"
      ]
     },
     "execution_count": 18,
     "metadata": {},
     "output_type": "execute_result"
    }
   ],
   "source": [
    "Q1 = dfk.quantile(0.25)\n",
    "Q3 = dfk.quantile(0.75)\n",
    "IQR = Q3 - Q1\n",
    "((dfk[dfk.columns ]< (Q1 - 1.5 * IQR)) | (dfk[dfk.columns] > (Q3 + 1.5 * IQR))).sum()"
   ]
  },
  {
   "cell_type": "code",
   "execution_count": 19,
   "metadata": {},
   "outputs": [],
   "source": [
    "dfkw=pd.DataFrame()\n",
    "others=['RH_4','RH_6','T7']\n",
    "for i in others:\n",
    "    dfkw['w_%s'%i]=dfk[i]"
   ]
  },
  {
   "cell_type": "code",
   "execution_count": 20,
   "metadata": {},
   "outputs": [],
   "source": [
    "#One by one, we kept winsorization low ratio because it might cause some side effects if we increase that ratio too much."
   ]
  },
  {
   "cell_type": "code",
   "execution_count": 21,
   "metadata": {},
   "outputs": [],
   "source": [
    "dfkw['w_Appliances']=winsorize(dfk.Appliances,(0,0.105))\n",
    "dfkw['w_T1']=winsorize(dfk.T1,(0.05,0.05))\n",
    "dfkw['w_RH_1']=winsorize(dfk.RH_1,(0.01,0.01))\n",
    "dfkw['w_T2']=winsorize(dfk.T2,(0,0.04))\n",
    "dfkw['w_RH_2']=winsorize(dfk.RH_2,(0.01,0.01))\n",
    "dfkw['w_T3']=winsorize(dfk.T3,(0,0.02))\n",
    "dfkw['w_T4']=winsorize(dfk.T4,(0.01,0.01))\n",
    "dfkw['w_T5']=winsorize(dfk.T5,(0,0.01))\n",
    "dfkw['w_RH_5']=winsorize(dfk.RH_5,(0.001,0.07))\n",
    "dfkw['w_T6']=winsorize(dfk.T6,(0,0.05))\n",
    "dfkw['w_RH_7']=winsorize(dfk.RH_7,(0,0.04))\n",
    "dfkw['w_T_out']=winsorize(dfk.T_out,(0,0.04))\n",
    "dfkw['w_Press_mm_hg']=winsorize(dfk.Press_mm_hg,(0.012,0))\n",
    "dfkw['w_RH_out']=winsorize(dfk.RH_out,(0.02,0))\n",
    "dfkw['w_Windspeed']=winsorize(dfk.Windspeed,(0,0.02))\n",
    "dfkw['w_Visibility']=winsorize(dfk.Visibility,(0.05,0.125))\n",
    "dfkw['w_RH_3']=winsorize(dfk.RH_3,(0,0.001))\n",
    "dfkw['w_T8']=winsorize(dfk.T8,(0.05,0))\n",
    "dfkw['w_RH_8']=winsorize(dfk.RH_8,(0,0.01))\n",
    "dfkw['w_T9']=winsorize(dfk.T9,(0,0.001))\n",
    "dfkw['w_RH_9']=winsorize(dfk.RH_9,(0.001,0.001))\n",
    "dfkw['w_Tdewpoint']=winsorize(dfk.Tdewpoint,(0,0.001))\n",
    "dfkw['w_rv1']=winsorize(dfk.rv1,(0.005,0.005))\n",
    "dfkw['w_rv2']=winsorize(dfk.rv2,(0.005,0.005))"
   ]
  },
  {
   "cell_type": "code",
   "execution_count": 22,
   "metadata": {},
   "outputs": [
    {
     "data": {
      "text/plain": [
       "0"
      ]
     },
     "execution_count": 22,
     "metadata": {},
     "output_type": "execute_result"
    }
   ],
   "source": [
    "# Now, we get rid of outliers.\n",
    "Q1 = dfkw.quantile(0.25)\n",
    "Q3 = dfkw.quantile(0.75)\n",
    "IQR = Q3 - Q1\n",
    "sum(((dfkw[dfkw.columns ]< (Q1 - 1.5 * IQR)) | (dfkw[dfkw.columns] > (Q3 + 1.5 * IQR))).sum())"
   ]
  },
  {
   "cell_type": "markdown",
   "metadata": {},
   "source": [
    "### 5. Exploring the Data"
   ]
  },
  {
   "cell_type": "code",
   "execution_count": 69,
   "metadata": {},
   "outputs": [
    {
     "data": {
      "application/vnd.plotly.v1+json": {
       "config": {
        "plotlyServerURL": "https://plot.ly"
       },
       "data": [
        {
         "hoverlabel": {
          "namelength": 0
         },
         "hovertemplate": "x=%{x}<br>Appliances=%{y}",
         "legendgroup": "",
         "line": {
          "color": "#636efa",
          "dash": "solid"
         },
         "mode": "lines+markers",
         "name": "",
         "showlegend": false,
         "type": "scatter",
         "x": [
          1,
          2,
          3,
          4,
          5,
          6,
          7,
          8,
          9,
          10,
          11,
          12,
          13,
          14,
          15,
          16,
          17,
          18,
          19,
          20,
          21,
          22,
          23,
          24,
          25,
          26,
          27,
          28,
          29,
          30,
          31
         ],
         "xaxis": "x",
         "y": [
          55540,
          44210,
          51330,
          66700,
          56570,
          52020,
          55870,
          61220,
          58010,
          47440,
          53150,
          69810,
          75440,
          86860,
          82910,
          88010,
          67440,
          56790,
          66020,
          68070,
          71650,
          70700,
          65500,
          68600,
          76360,
          71340,
          54750,
          45240,
          58780,
          51640,
          30040
         ],
         "yaxis": "y"
        }
       ],
       "layout": {
        "legend": {
         "tracegroupgap": 0
        },
        "margin": {
         "t": 60
        },
        "template": {
         "data": {
          "bar": [
           {
            "error_x": {
             "color": "#2a3f5f"
            },
            "error_y": {
             "color": "#2a3f5f"
            },
            "marker": {
             "line": {
              "color": "#E5ECF6",
              "width": 0.5
             }
            },
            "type": "bar"
           }
          ],
          "barpolar": [
           {
            "marker": {
             "line": {
              "color": "#E5ECF6",
              "width": 0.5
             }
            },
            "type": "barpolar"
           }
          ],
          "carpet": [
           {
            "aaxis": {
             "endlinecolor": "#2a3f5f",
             "gridcolor": "white",
             "linecolor": "white",
             "minorgridcolor": "white",
             "startlinecolor": "#2a3f5f"
            },
            "baxis": {
             "endlinecolor": "#2a3f5f",
             "gridcolor": "white",
             "linecolor": "white",
             "minorgridcolor": "white",
             "startlinecolor": "#2a3f5f"
            },
            "type": "carpet"
           }
          ],
          "choropleth": [
           {
            "colorbar": {
             "outlinewidth": 0,
             "ticks": ""
            },
            "type": "choropleth"
           }
          ],
          "contour": [
           {
            "colorbar": {
             "outlinewidth": 0,
             "ticks": ""
            },
            "colorscale": [
             [
              0,
              "#0d0887"
             ],
             [
              0.1111111111111111,
              "#46039f"
             ],
             [
              0.2222222222222222,
              "#7201a8"
             ],
             [
              0.3333333333333333,
              "#9c179e"
             ],
             [
              0.4444444444444444,
              "#bd3786"
             ],
             [
              0.5555555555555556,
              "#d8576b"
             ],
             [
              0.6666666666666666,
              "#ed7953"
             ],
             [
              0.7777777777777778,
              "#fb9f3a"
             ],
             [
              0.8888888888888888,
              "#fdca26"
             ],
             [
              1,
              "#f0f921"
             ]
            ],
            "type": "contour"
           }
          ],
          "contourcarpet": [
           {
            "colorbar": {
             "outlinewidth": 0,
             "ticks": ""
            },
            "type": "contourcarpet"
           }
          ],
          "heatmap": [
           {
            "colorbar": {
             "outlinewidth": 0,
             "ticks": ""
            },
            "colorscale": [
             [
              0,
              "#0d0887"
             ],
             [
              0.1111111111111111,
              "#46039f"
             ],
             [
              0.2222222222222222,
              "#7201a8"
             ],
             [
              0.3333333333333333,
              "#9c179e"
             ],
             [
              0.4444444444444444,
              "#bd3786"
             ],
             [
              0.5555555555555556,
              "#d8576b"
             ],
             [
              0.6666666666666666,
              "#ed7953"
             ],
             [
              0.7777777777777778,
              "#fb9f3a"
             ],
             [
              0.8888888888888888,
              "#fdca26"
             ],
             [
              1,
              "#f0f921"
             ]
            ],
            "type": "heatmap"
           }
          ],
          "heatmapgl": [
           {
            "colorbar": {
             "outlinewidth": 0,
             "ticks": ""
            },
            "colorscale": [
             [
              0,
              "#0d0887"
             ],
             [
              0.1111111111111111,
              "#46039f"
             ],
             [
              0.2222222222222222,
              "#7201a8"
             ],
             [
              0.3333333333333333,
              "#9c179e"
             ],
             [
              0.4444444444444444,
              "#bd3786"
             ],
             [
              0.5555555555555556,
              "#d8576b"
             ],
             [
              0.6666666666666666,
              "#ed7953"
             ],
             [
              0.7777777777777778,
              "#fb9f3a"
             ],
             [
              0.8888888888888888,
              "#fdca26"
             ],
             [
              1,
              "#f0f921"
             ]
            ],
            "type": "heatmapgl"
           }
          ],
          "histogram": [
           {
            "marker": {
             "colorbar": {
              "outlinewidth": 0,
              "ticks": ""
             }
            },
            "type": "histogram"
           }
          ],
          "histogram2d": [
           {
            "colorbar": {
             "outlinewidth": 0,
             "ticks": ""
            },
            "colorscale": [
             [
              0,
              "#0d0887"
             ],
             [
              0.1111111111111111,
              "#46039f"
             ],
             [
              0.2222222222222222,
              "#7201a8"
             ],
             [
              0.3333333333333333,
              "#9c179e"
             ],
             [
              0.4444444444444444,
              "#bd3786"
             ],
             [
              0.5555555555555556,
              "#d8576b"
             ],
             [
              0.6666666666666666,
              "#ed7953"
             ],
             [
              0.7777777777777778,
              "#fb9f3a"
             ],
             [
              0.8888888888888888,
              "#fdca26"
             ],
             [
              1,
              "#f0f921"
             ]
            ],
            "type": "histogram2d"
           }
          ],
          "histogram2dcontour": [
           {
            "colorbar": {
             "outlinewidth": 0,
             "ticks": ""
            },
            "colorscale": [
             [
              0,
              "#0d0887"
             ],
             [
              0.1111111111111111,
              "#46039f"
             ],
             [
              0.2222222222222222,
              "#7201a8"
             ],
             [
              0.3333333333333333,
              "#9c179e"
             ],
             [
              0.4444444444444444,
              "#bd3786"
             ],
             [
              0.5555555555555556,
              "#d8576b"
             ],
             [
              0.6666666666666666,
              "#ed7953"
             ],
             [
              0.7777777777777778,
              "#fb9f3a"
             ],
             [
              0.8888888888888888,
              "#fdca26"
             ],
             [
              1,
              "#f0f921"
             ]
            ],
            "type": "histogram2dcontour"
           }
          ],
          "mesh3d": [
           {
            "colorbar": {
             "outlinewidth": 0,
             "ticks": ""
            },
            "type": "mesh3d"
           }
          ],
          "parcoords": [
           {
            "line": {
             "colorbar": {
              "outlinewidth": 0,
              "ticks": ""
             }
            },
            "type": "parcoords"
           }
          ],
          "pie": [
           {
            "automargin": true,
            "type": "pie"
           }
          ],
          "scatter": [
           {
            "marker": {
             "colorbar": {
              "outlinewidth": 0,
              "ticks": ""
             }
            },
            "type": "scatter"
           }
          ],
          "scatter3d": [
           {
            "line": {
             "colorbar": {
              "outlinewidth": 0,
              "ticks": ""
             }
            },
            "marker": {
             "colorbar": {
              "outlinewidth": 0,
              "ticks": ""
             }
            },
            "type": "scatter3d"
           }
          ],
          "scattercarpet": [
           {
            "marker": {
             "colorbar": {
              "outlinewidth": 0,
              "ticks": ""
             }
            },
            "type": "scattercarpet"
           }
          ],
          "scattergeo": [
           {
            "marker": {
             "colorbar": {
              "outlinewidth": 0,
              "ticks": ""
             }
            },
            "type": "scattergeo"
           }
          ],
          "scattergl": [
           {
            "marker": {
             "colorbar": {
              "outlinewidth": 0,
              "ticks": ""
             }
            },
            "type": "scattergl"
           }
          ],
          "scattermapbox": [
           {
            "marker": {
             "colorbar": {
              "outlinewidth": 0,
              "ticks": ""
             }
            },
            "type": "scattermapbox"
           }
          ],
          "scatterpolar": [
           {
            "marker": {
             "colorbar": {
              "outlinewidth": 0,
              "ticks": ""
             }
            },
            "type": "scatterpolar"
           }
          ],
          "scatterpolargl": [
           {
            "marker": {
             "colorbar": {
              "outlinewidth": 0,
              "ticks": ""
             }
            },
            "type": "scatterpolargl"
           }
          ],
          "scatterternary": [
           {
            "marker": {
             "colorbar": {
              "outlinewidth": 0,
              "ticks": ""
             }
            },
            "type": "scatterternary"
           }
          ],
          "surface": [
           {
            "colorbar": {
             "outlinewidth": 0,
             "ticks": ""
            },
            "colorscale": [
             [
              0,
              "#0d0887"
             ],
             [
              0.1111111111111111,
              "#46039f"
             ],
             [
              0.2222222222222222,
              "#7201a8"
             ],
             [
              0.3333333333333333,
              "#9c179e"
             ],
             [
              0.4444444444444444,
              "#bd3786"
             ],
             [
              0.5555555555555556,
              "#d8576b"
             ],
             [
              0.6666666666666666,
              "#ed7953"
             ],
             [
              0.7777777777777778,
              "#fb9f3a"
             ],
             [
              0.8888888888888888,
              "#fdca26"
             ],
             [
              1,
              "#f0f921"
             ]
            ],
            "type": "surface"
           }
          ],
          "table": [
           {
            "cells": {
             "fill": {
              "color": "#EBF0F8"
             },
             "line": {
              "color": "white"
             }
            },
            "header": {
             "fill": {
              "color": "#C8D4E3"
             },
             "line": {
              "color": "white"
             }
            },
            "type": "table"
           }
          ]
         },
         "layout": {
          "annotationdefaults": {
           "arrowcolor": "#2a3f5f",
           "arrowhead": 0,
           "arrowwidth": 1
          },
          "coloraxis": {
           "colorbar": {
            "outlinewidth": 0,
            "ticks": ""
           }
          },
          "colorscale": {
           "diverging": [
            [
             0,
             "#8e0152"
            ],
            [
             0.1,
             "#c51b7d"
            ],
            [
             0.2,
             "#de77ae"
            ],
            [
             0.3,
             "#f1b6da"
            ],
            [
             0.4,
             "#fde0ef"
            ],
            [
             0.5,
             "#f7f7f7"
            ],
            [
             0.6,
             "#e6f5d0"
            ],
            [
             0.7,
             "#b8e186"
            ],
            [
             0.8,
             "#7fbc41"
            ],
            [
             0.9,
             "#4d9221"
            ],
            [
             1,
             "#276419"
            ]
           ],
           "sequential": [
            [
             0,
             "#0d0887"
            ],
            [
             0.1111111111111111,
             "#46039f"
            ],
            [
             0.2222222222222222,
             "#7201a8"
            ],
            [
             0.3333333333333333,
             "#9c179e"
            ],
            [
             0.4444444444444444,
             "#bd3786"
            ],
            [
             0.5555555555555556,
             "#d8576b"
            ],
            [
             0.6666666666666666,
             "#ed7953"
            ],
            [
             0.7777777777777778,
             "#fb9f3a"
            ],
            [
             0.8888888888888888,
             "#fdca26"
            ],
            [
             1,
             "#f0f921"
            ]
           ],
           "sequentialminus": [
            [
             0,
             "#0d0887"
            ],
            [
             0.1111111111111111,
             "#46039f"
            ],
            [
             0.2222222222222222,
             "#7201a8"
            ],
            [
             0.3333333333333333,
             "#9c179e"
            ],
            [
             0.4444444444444444,
             "#bd3786"
            ],
            [
             0.5555555555555556,
             "#d8576b"
            ],
            [
             0.6666666666666666,
             "#ed7953"
            ],
            [
             0.7777777777777778,
             "#fb9f3a"
            ],
            [
             0.8888888888888888,
             "#fdca26"
            ],
            [
             1,
             "#f0f921"
            ]
           ]
          },
          "colorway": [
           "#636efa",
           "#EF553B",
           "#00cc96",
           "#ab63fa",
           "#FFA15A",
           "#19d3f3",
           "#FF6692",
           "#B6E880",
           "#FF97FF",
           "#FECB52"
          ],
          "font": {
           "color": "#2a3f5f"
          },
          "geo": {
           "bgcolor": "white",
           "lakecolor": "white",
           "landcolor": "#E5ECF6",
           "showlakes": true,
           "showland": true,
           "subunitcolor": "white"
          },
          "hoverlabel": {
           "align": "left"
          },
          "hovermode": "closest",
          "mapbox": {
           "style": "light"
          },
          "paper_bgcolor": "white",
          "plot_bgcolor": "#E5ECF6",
          "polar": {
           "angularaxis": {
            "gridcolor": "white",
            "linecolor": "white",
            "ticks": ""
           },
           "bgcolor": "#E5ECF6",
           "radialaxis": {
            "gridcolor": "white",
            "linecolor": "white",
            "ticks": ""
           }
          },
          "scene": {
           "xaxis": {
            "backgroundcolor": "#E5ECF6",
            "gridcolor": "white",
            "gridwidth": 2,
            "linecolor": "white",
            "showbackground": true,
            "ticks": "",
            "zerolinecolor": "white"
           },
           "yaxis": {
            "backgroundcolor": "#E5ECF6",
            "gridcolor": "white",
            "gridwidth": 2,
            "linecolor": "white",
            "showbackground": true,
            "ticks": "",
            "zerolinecolor": "white"
           },
           "zaxis": {
            "backgroundcolor": "#E5ECF6",
            "gridcolor": "white",
            "gridwidth": 2,
            "linecolor": "white",
            "showbackground": true,
            "ticks": "",
            "zerolinecolor": "white"
           }
          },
          "shapedefaults": {
           "line": {
            "color": "#2a3f5f"
           }
          },
          "ternary": {
           "aaxis": {
            "gridcolor": "white",
            "linecolor": "white",
            "ticks": ""
           },
           "baxis": {
            "gridcolor": "white",
            "linecolor": "white",
            "ticks": ""
           },
           "bgcolor": "#E5ECF6",
           "caxis": {
            "gridcolor": "white",
            "linecolor": "white",
            "ticks": ""
           }
          },
          "title": {
           "x": 0.05
          },
          "xaxis": {
           "automargin": true,
           "gridcolor": "white",
           "linecolor": "white",
           "ticks": "",
           "title": {
            "standoff": 15
           },
           "zerolinecolor": "white",
           "zerolinewidth": 2
          },
          "yaxis": {
           "automargin": true,
           "gridcolor": "white",
           "linecolor": "white",
           "ticks": "",
           "title": {
            "standoff": 15
           },
           "zerolinecolor": "white",
           "zerolinewidth": 2
          }
         }
        },
        "xaxis": {
         "anchor": "y",
         "domain": [
          0,
          1
         ],
         "title": {
          "text": "x"
         }
        },
        "yaxis": {
         "anchor": "x",
         "domain": [
          0,
          1
         ],
         "title": {
          "text": "Appliances"
         }
        }
       }
      },
      "text/html": [
       "<div>\n",
       "        \n",
       "        \n",
       "            <div id=\"2e868128-6b0a-4c5e-abb5-f5adab6b1269\" class=\"plotly-graph-div\" style=\"height:525px; width:100%;\"></div>\n",
       "            <script type=\"text/javascript\">\n",
       "                require([\"plotly\"], function(Plotly) {\n",
       "                    window.PLOTLYENV=window.PLOTLYENV || {};\n",
       "                    \n",
       "                if (document.getElementById(\"2e868128-6b0a-4c5e-abb5-f5adab6b1269\")) {\n",
       "                    Plotly.newPlot(\n",
       "                        '2e868128-6b0a-4c5e-abb5-f5adab6b1269',\n",
       "                        [{\"hoverlabel\": {\"namelength\": 0}, \"hovertemplate\": \"x=%{x}<br>Appliances=%{y}\", \"legendgroup\": \"\", \"line\": {\"color\": \"#636efa\", \"dash\": \"solid\"}, \"mode\": \"lines+markers\", \"name\": \"\", \"showlegend\": false, \"type\": \"scatter\", \"x\": [1, 2, 3, 4, 5, 6, 7, 8, 9, 10, 11, 12, 13, 14, 15, 16, 17, 18, 19, 20, 21, 22, 23, 24, 25, 26, 27, 28, 29, 30, 31], \"xaxis\": \"x\", \"y\": [55540, 44210, 51330, 66700, 56570, 52020, 55870, 61220, 58010, 47440, 53150, 69810, 75440, 86860, 82910, 88010, 67440, 56790, 66020, 68070, 71650, 70700, 65500, 68600, 76360, 71340, 54750, 45240, 58780, 51640, 30040], \"yaxis\": \"y\"}],\n",
       "                        {\"legend\": {\"tracegroupgap\": 0}, \"margin\": {\"t\": 60}, \"template\": {\"data\": {\"bar\": [{\"error_x\": {\"color\": \"#2a3f5f\"}, \"error_y\": {\"color\": \"#2a3f5f\"}, \"marker\": {\"line\": {\"color\": \"#E5ECF6\", \"width\": 0.5}}, \"type\": \"bar\"}], \"barpolar\": [{\"marker\": {\"line\": {\"color\": \"#E5ECF6\", \"width\": 0.5}}, \"type\": \"barpolar\"}], \"carpet\": [{\"aaxis\": {\"endlinecolor\": \"#2a3f5f\", \"gridcolor\": \"white\", \"linecolor\": \"white\", \"minorgridcolor\": \"white\", \"startlinecolor\": \"#2a3f5f\"}, \"baxis\": {\"endlinecolor\": \"#2a3f5f\", \"gridcolor\": \"white\", \"linecolor\": \"white\", \"minorgridcolor\": \"white\", \"startlinecolor\": \"#2a3f5f\"}, \"type\": \"carpet\"}], \"choropleth\": [{\"colorbar\": {\"outlinewidth\": 0, \"ticks\": \"\"}, \"type\": \"choropleth\"}], \"contour\": [{\"colorbar\": {\"outlinewidth\": 0, \"ticks\": \"\"}, \"colorscale\": [[0.0, \"#0d0887\"], [0.1111111111111111, \"#46039f\"], [0.2222222222222222, \"#7201a8\"], [0.3333333333333333, \"#9c179e\"], [0.4444444444444444, \"#bd3786\"], [0.5555555555555556, \"#d8576b\"], [0.6666666666666666, \"#ed7953\"], [0.7777777777777778, \"#fb9f3a\"], [0.8888888888888888, \"#fdca26\"], [1.0, \"#f0f921\"]], \"type\": \"contour\"}], \"contourcarpet\": [{\"colorbar\": {\"outlinewidth\": 0, \"ticks\": \"\"}, \"type\": \"contourcarpet\"}], \"heatmap\": [{\"colorbar\": {\"outlinewidth\": 0, \"ticks\": \"\"}, \"colorscale\": [[0.0, \"#0d0887\"], [0.1111111111111111, \"#46039f\"], [0.2222222222222222, \"#7201a8\"], [0.3333333333333333, \"#9c179e\"], [0.4444444444444444, \"#bd3786\"], [0.5555555555555556, \"#d8576b\"], [0.6666666666666666, \"#ed7953\"], [0.7777777777777778, \"#fb9f3a\"], [0.8888888888888888, \"#fdca26\"], [1.0, \"#f0f921\"]], \"type\": \"heatmap\"}], \"heatmapgl\": [{\"colorbar\": {\"outlinewidth\": 0, \"ticks\": \"\"}, \"colorscale\": [[0.0, \"#0d0887\"], [0.1111111111111111, \"#46039f\"], [0.2222222222222222, \"#7201a8\"], [0.3333333333333333, \"#9c179e\"], [0.4444444444444444, \"#bd3786\"], [0.5555555555555556, \"#d8576b\"], [0.6666666666666666, \"#ed7953\"], [0.7777777777777778, \"#fb9f3a\"], [0.8888888888888888, \"#fdca26\"], [1.0, \"#f0f921\"]], \"type\": \"heatmapgl\"}], \"histogram\": [{\"marker\": {\"colorbar\": {\"outlinewidth\": 0, \"ticks\": \"\"}}, \"type\": \"histogram\"}], \"histogram2d\": [{\"colorbar\": {\"outlinewidth\": 0, \"ticks\": \"\"}, \"colorscale\": [[0.0, \"#0d0887\"], [0.1111111111111111, \"#46039f\"], [0.2222222222222222, \"#7201a8\"], [0.3333333333333333, \"#9c179e\"], [0.4444444444444444, \"#bd3786\"], [0.5555555555555556, \"#d8576b\"], [0.6666666666666666, \"#ed7953\"], [0.7777777777777778, \"#fb9f3a\"], [0.8888888888888888, \"#fdca26\"], [1.0, \"#f0f921\"]], \"type\": \"histogram2d\"}], \"histogram2dcontour\": [{\"colorbar\": {\"outlinewidth\": 0, \"ticks\": \"\"}, \"colorscale\": [[0.0, \"#0d0887\"], [0.1111111111111111, \"#46039f\"], [0.2222222222222222, \"#7201a8\"], [0.3333333333333333, \"#9c179e\"], [0.4444444444444444, \"#bd3786\"], [0.5555555555555556, \"#d8576b\"], [0.6666666666666666, \"#ed7953\"], [0.7777777777777778, \"#fb9f3a\"], [0.8888888888888888, \"#fdca26\"], [1.0, \"#f0f921\"]], \"type\": \"histogram2dcontour\"}], \"mesh3d\": [{\"colorbar\": {\"outlinewidth\": 0, \"ticks\": \"\"}, \"type\": \"mesh3d\"}], \"parcoords\": [{\"line\": {\"colorbar\": {\"outlinewidth\": 0, \"ticks\": \"\"}}, \"type\": \"parcoords\"}], \"pie\": [{\"automargin\": true, \"type\": \"pie\"}], \"scatter\": [{\"marker\": {\"colorbar\": {\"outlinewidth\": 0, \"ticks\": \"\"}}, \"type\": \"scatter\"}], \"scatter3d\": [{\"line\": {\"colorbar\": {\"outlinewidth\": 0, \"ticks\": \"\"}}, \"marker\": {\"colorbar\": {\"outlinewidth\": 0, \"ticks\": \"\"}}, \"type\": \"scatter3d\"}], \"scattercarpet\": [{\"marker\": {\"colorbar\": {\"outlinewidth\": 0, \"ticks\": \"\"}}, \"type\": \"scattercarpet\"}], \"scattergeo\": [{\"marker\": {\"colorbar\": {\"outlinewidth\": 0, \"ticks\": \"\"}}, \"type\": \"scattergeo\"}], \"scattergl\": [{\"marker\": {\"colorbar\": {\"outlinewidth\": 0, \"ticks\": \"\"}}, \"type\": \"scattergl\"}], \"scattermapbox\": [{\"marker\": {\"colorbar\": {\"outlinewidth\": 0, \"ticks\": \"\"}}, \"type\": \"scattermapbox\"}], \"scatterpolar\": [{\"marker\": {\"colorbar\": {\"outlinewidth\": 0, \"ticks\": \"\"}}, \"type\": \"scatterpolar\"}], \"scatterpolargl\": [{\"marker\": {\"colorbar\": {\"outlinewidth\": 0, \"ticks\": \"\"}}, \"type\": \"scatterpolargl\"}], \"scatterternary\": [{\"marker\": {\"colorbar\": {\"outlinewidth\": 0, \"ticks\": \"\"}}, \"type\": \"scatterternary\"}], \"surface\": [{\"colorbar\": {\"outlinewidth\": 0, \"ticks\": \"\"}, \"colorscale\": [[0.0, \"#0d0887\"], [0.1111111111111111, \"#46039f\"], [0.2222222222222222, \"#7201a8\"], [0.3333333333333333, \"#9c179e\"], [0.4444444444444444, \"#bd3786\"], [0.5555555555555556, \"#d8576b\"], [0.6666666666666666, \"#ed7953\"], [0.7777777777777778, \"#fb9f3a\"], [0.8888888888888888, \"#fdca26\"], [1.0, \"#f0f921\"]], \"type\": \"surface\"}], \"table\": [{\"cells\": {\"fill\": {\"color\": \"#EBF0F8\"}, \"line\": {\"color\": \"white\"}}, \"header\": {\"fill\": {\"color\": \"#C8D4E3\"}, \"line\": {\"color\": \"white\"}}, \"type\": \"table\"}]}, \"layout\": {\"annotationdefaults\": {\"arrowcolor\": \"#2a3f5f\", \"arrowhead\": 0, \"arrowwidth\": 1}, \"coloraxis\": {\"colorbar\": {\"outlinewidth\": 0, \"ticks\": \"\"}}, \"colorscale\": {\"diverging\": [[0, \"#8e0152\"], [0.1, \"#c51b7d\"], [0.2, \"#de77ae\"], [0.3, \"#f1b6da\"], [0.4, \"#fde0ef\"], [0.5, \"#f7f7f7\"], [0.6, \"#e6f5d0\"], [0.7, \"#b8e186\"], [0.8, \"#7fbc41\"], [0.9, \"#4d9221\"], [1, \"#276419\"]], \"sequential\": [[0.0, \"#0d0887\"], [0.1111111111111111, \"#46039f\"], [0.2222222222222222, \"#7201a8\"], [0.3333333333333333, \"#9c179e\"], [0.4444444444444444, \"#bd3786\"], [0.5555555555555556, \"#d8576b\"], [0.6666666666666666, \"#ed7953\"], [0.7777777777777778, \"#fb9f3a\"], [0.8888888888888888, \"#fdca26\"], [1.0, \"#f0f921\"]], \"sequentialminus\": [[0.0, \"#0d0887\"], [0.1111111111111111, \"#46039f\"], [0.2222222222222222, \"#7201a8\"], [0.3333333333333333, \"#9c179e\"], [0.4444444444444444, \"#bd3786\"], [0.5555555555555556, \"#d8576b\"], [0.6666666666666666, \"#ed7953\"], [0.7777777777777778, \"#fb9f3a\"], [0.8888888888888888, \"#fdca26\"], [1.0, \"#f0f921\"]]}, \"colorway\": [\"#636efa\", \"#EF553B\", \"#00cc96\", \"#ab63fa\", \"#FFA15A\", \"#19d3f3\", \"#FF6692\", \"#B6E880\", \"#FF97FF\", \"#FECB52\"], \"font\": {\"color\": \"#2a3f5f\"}, \"geo\": {\"bgcolor\": \"white\", \"lakecolor\": \"white\", \"landcolor\": \"#E5ECF6\", \"showlakes\": true, \"showland\": true, \"subunitcolor\": \"white\"}, \"hoverlabel\": {\"align\": \"left\"}, \"hovermode\": \"closest\", \"mapbox\": {\"style\": \"light\"}, \"paper_bgcolor\": \"white\", \"plot_bgcolor\": \"#E5ECF6\", \"polar\": {\"angularaxis\": {\"gridcolor\": \"white\", \"linecolor\": \"white\", \"ticks\": \"\"}, \"bgcolor\": \"#E5ECF6\", \"radialaxis\": {\"gridcolor\": \"white\", \"linecolor\": \"white\", \"ticks\": \"\"}}, \"scene\": {\"xaxis\": {\"backgroundcolor\": \"#E5ECF6\", \"gridcolor\": \"white\", \"gridwidth\": 2, \"linecolor\": \"white\", \"showbackground\": true, \"ticks\": \"\", \"zerolinecolor\": \"white\"}, \"yaxis\": {\"backgroundcolor\": \"#E5ECF6\", \"gridcolor\": \"white\", \"gridwidth\": 2, \"linecolor\": \"white\", \"showbackground\": true, \"ticks\": \"\", \"zerolinecolor\": \"white\"}, \"zaxis\": {\"backgroundcolor\": \"#E5ECF6\", \"gridcolor\": \"white\", \"gridwidth\": 2, \"linecolor\": \"white\", \"showbackground\": true, \"ticks\": \"\", \"zerolinecolor\": \"white\"}}, \"shapedefaults\": {\"line\": {\"color\": \"#2a3f5f\"}}, \"ternary\": {\"aaxis\": {\"gridcolor\": \"white\", \"linecolor\": \"white\", \"ticks\": \"\"}, \"baxis\": {\"gridcolor\": \"white\", \"linecolor\": \"white\", \"ticks\": \"\"}, \"bgcolor\": \"#E5ECF6\", \"caxis\": {\"gridcolor\": \"white\", \"linecolor\": \"white\", \"ticks\": \"\"}}, \"title\": {\"x\": 0.05}, \"xaxis\": {\"automargin\": true, \"gridcolor\": \"white\", \"linecolor\": \"white\", \"ticks\": \"\", \"title\": {\"standoff\": 15}, \"zerolinecolor\": \"white\", \"zerolinewidth\": 2}, \"yaxis\": {\"automargin\": true, \"gridcolor\": \"white\", \"linecolor\": \"white\", \"ticks\": \"\", \"title\": {\"standoff\": 15}, \"zerolinecolor\": \"white\", \"zerolinewidth\": 2}}}, \"xaxis\": {\"anchor\": \"y\", \"domain\": [0.0, 1.0], \"title\": {\"text\": \"x\"}}, \"yaxis\": {\"anchor\": \"x\", \"domain\": [0.0, 1.0], \"title\": {\"text\": \"Appliances\"}}},\n",
       "                        {\"responsive\": true}\n",
       "                    ).then(function(){\n",
       "                            \n",
       "var gd = document.getElementById('2e868128-6b0a-4c5e-abb5-f5adab6b1269');\n",
       "var x = new MutationObserver(function (mutations, observer) {{\n",
       "        var display = window.getComputedStyle(gd).display;\n",
       "        if (!display || display === 'none') {{\n",
       "            console.log([gd, 'removed!']);\n",
       "            Plotly.purge(gd);\n",
       "            observer.disconnect();\n",
       "        }}\n",
       "}});\n",
       "\n",
       "// Listen for the removal of the full notebook cells\n",
       "var notebookContainer = gd.closest('#notebook-container');\n",
       "if (notebookContainer) {{\n",
       "    x.observe(notebookContainer, {childList: true});\n",
       "}}\n",
       "\n",
       "// Listen for the clearing of the current output cell\n",
       "var outputEl = gd.closest('.output');\n",
       "if (outputEl) {{\n",
       "    x.observe(outputEl, {childList: true});\n",
       "}}\n",
       "\n",
       "                        })\n",
       "                };\n",
       "                });\n",
       "            </script>\n",
       "        </div>"
      ]
     },
     "metadata": {},
     "output_type": "display_data"
    }
   ],
   "source": [
    "# We can see energy consumption by days or hours.\n",
    "date_sum= dfk.groupby('day').sum()\n",
    "px.line(date_sum, y = 'Appliances', x = date_sum.index).update_traces(mode='lines+markers')"
   ]
  },
  {
   "cell_type": "code",
   "execution_count": 24,
   "metadata": {},
   "outputs": [
    {
     "data": {
      "application/vnd.plotly.v1+json": {
       "config": {
        "plotlyServerURL": "https://plot.ly"
       },
       "data": [
        {
         "hoverlabel": {
          "namelength": 0
         },
         "hovertemplate": "x=%{x}<br>Appliances=%{y}",
         "legendgroup": "",
         "line": {
          "color": "#636efa",
          "dash": "solid"
         },
         "mode": "lines+markers",
         "name": "",
         "showlegend": false,
         "type": "scatter",
         "x": [
          0,
          1,
          2,
          3,
          4,
          5,
          6,
          7,
          8,
          9,
          10,
          11,
          12,
          13,
          14,
          15,
          16,
          17,
          18,
          19,
          20,
          21,
          22,
          23
         ],
         "xaxis": "x",
         "y": [
          43390,
          42190,
          40340,
          39650,
          40570,
          43350,
          47440,
          64650,
          87250,
          92710,
          103060,
          109430,
          101630,
          102540,
          89010,
          86990,
          98560,
          133600,
          156670,
          117600,
          104380,
          79320,
          56840,
          46840
         ],
         "yaxis": "y"
        }
       ],
       "layout": {
        "legend": {
         "tracegroupgap": 0
        },
        "margin": {
         "t": 60
        },
        "template": {
         "data": {
          "bar": [
           {
            "error_x": {
             "color": "#2a3f5f"
            },
            "error_y": {
             "color": "#2a3f5f"
            },
            "marker": {
             "line": {
              "color": "#E5ECF6",
              "width": 0.5
             }
            },
            "type": "bar"
           }
          ],
          "barpolar": [
           {
            "marker": {
             "line": {
              "color": "#E5ECF6",
              "width": 0.5
             }
            },
            "type": "barpolar"
           }
          ],
          "carpet": [
           {
            "aaxis": {
             "endlinecolor": "#2a3f5f",
             "gridcolor": "white",
             "linecolor": "white",
             "minorgridcolor": "white",
             "startlinecolor": "#2a3f5f"
            },
            "baxis": {
             "endlinecolor": "#2a3f5f",
             "gridcolor": "white",
             "linecolor": "white",
             "minorgridcolor": "white",
             "startlinecolor": "#2a3f5f"
            },
            "type": "carpet"
           }
          ],
          "choropleth": [
           {
            "colorbar": {
             "outlinewidth": 0,
             "ticks": ""
            },
            "type": "choropleth"
           }
          ],
          "contour": [
           {
            "colorbar": {
             "outlinewidth": 0,
             "ticks": ""
            },
            "colorscale": [
             [
              0,
              "#0d0887"
             ],
             [
              0.1111111111111111,
              "#46039f"
             ],
             [
              0.2222222222222222,
              "#7201a8"
             ],
             [
              0.3333333333333333,
              "#9c179e"
             ],
             [
              0.4444444444444444,
              "#bd3786"
             ],
             [
              0.5555555555555556,
              "#d8576b"
             ],
             [
              0.6666666666666666,
              "#ed7953"
             ],
             [
              0.7777777777777778,
              "#fb9f3a"
             ],
             [
              0.8888888888888888,
              "#fdca26"
             ],
             [
              1,
              "#f0f921"
             ]
            ],
            "type": "contour"
           }
          ],
          "contourcarpet": [
           {
            "colorbar": {
             "outlinewidth": 0,
             "ticks": ""
            },
            "type": "contourcarpet"
           }
          ],
          "heatmap": [
           {
            "colorbar": {
             "outlinewidth": 0,
             "ticks": ""
            },
            "colorscale": [
             [
              0,
              "#0d0887"
             ],
             [
              0.1111111111111111,
              "#46039f"
             ],
             [
              0.2222222222222222,
              "#7201a8"
             ],
             [
              0.3333333333333333,
              "#9c179e"
             ],
             [
              0.4444444444444444,
              "#bd3786"
             ],
             [
              0.5555555555555556,
              "#d8576b"
             ],
             [
              0.6666666666666666,
              "#ed7953"
             ],
             [
              0.7777777777777778,
              "#fb9f3a"
             ],
             [
              0.8888888888888888,
              "#fdca26"
             ],
             [
              1,
              "#f0f921"
             ]
            ],
            "type": "heatmap"
           }
          ],
          "heatmapgl": [
           {
            "colorbar": {
             "outlinewidth": 0,
             "ticks": ""
            },
            "colorscale": [
             [
              0,
              "#0d0887"
             ],
             [
              0.1111111111111111,
              "#46039f"
             ],
             [
              0.2222222222222222,
              "#7201a8"
             ],
             [
              0.3333333333333333,
              "#9c179e"
             ],
             [
              0.4444444444444444,
              "#bd3786"
             ],
             [
              0.5555555555555556,
              "#d8576b"
             ],
             [
              0.6666666666666666,
              "#ed7953"
             ],
             [
              0.7777777777777778,
              "#fb9f3a"
             ],
             [
              0.8888888888888888,
              "#fdca26"
             ],
             [
              1,
              "#f0f921"
             ]
            ],
            "type": "heatmapgl"
           }
          ],
          "histogram": [
           {
            "marker": {
             "colorbar": {
              "outlinewidth": 0,
              "ticks": ""
             }
            },
            "type": "histogram"
           }
          ],
          "histogram2d": [
           {
            "colorbar": {
             "outlinewidth": 0,
             "ticks": ""
            },
            "colorscale": [
             [
              0,
              "#0d0887"
             ],
             [
              0.1111111111111111,
              "#46039f"
             ],
             [
              0.2222222222222222,
              "#7201a8"
             ],
             [
              0.3333333333333333,
              "#9c179e"
             ],
             [
              0.4444444444444444,
              "#bd3786"
             ],
             [
              0.5555555555555556,
              "#d8576b"
             ],
             [
              0.6666666666666666,
              "#ed7953"
             ],
             [
              0.7777777777777778,
              "#fb9f3a"
             ],
             [
              0.8888888888888888,
              "#fdca26"
             ],
             [
              1,
              "#f0f921"
             ]
            ],
            "type": "histogram2d"
           }
          ],
          "histogram2dcontour": [
           {
            "colorbar": {
             "outlinewidth": 0,
             "ticks": ""
            },
            "colorscale": [
             [
              0,
              "#0d0887"
             ],
             [
              0.1111111111111111,
              "#46039f"
             ],
             [
              0.2222222222222222,
              "#7201a8"
             ],
             [
              0.3333333333333333,
              "#9c179e"
             ],
             [
              0.4444444444444444,
              "#bd3786"
             ],
             [
              0.5555555555555556,
              "#d8576b"
             ],
             [
              0.6666666666666666,
              "#ed7953"
             ],
             [
              0.7777777777777778,
              "#fb9f3a"
             ],
             [
              0.8888888888888888,
              "#fdca26"
             ],
             [
              1,
              "#f0f921"
             ]
            ],
            "type": "histogram2dcontour"
           }
          ],
          "mesh3d": [
           {
            "colorbar": {
             "outlinewidth": 0,
             "ticks": ""
            },
            "type": "mesh3d"
           }
          ],
          "parcoords": [
           {
            "line": {
             "colorbar": {
              "outlinewidth": 0,
              "ticks": ""
             }
            },
            "type": "parcoords"
           }
          ],
          "pie": [
           {
            "automargin": true,
            "type": "pie"
           }
          ],
          "scatter": [
           {
            "marker": {
             "colorbar": {
              "outlinewidth": 0,
              "ticks": ""
             }
            },
            "type": "scatter"
           }
          ],
          "scatter3d": [
           {
            "line": {
             "colorbar": {
              "outlinewidth": 0,
              "ticks": ""
             }
            },
            "marker": {
             "colorbar": {
              "outlinewidth": 0,
              "ticks": ""
             }
            },
            "type": "scatter3d"
           }
          ],
          "scattercarpet": [
           {
            "marker": {
             "colorbar": {
              "outlinewidth": 0,
              "ticks": ""
             }
            },
            "type": "scattercarpet"
           }
          ],
          "scattergeo": [
           {
            "marker": {
             "colorbar": {
              "outlinewidth": 0,
              "ticks": ""
             }
            },
            "type": "scattergeo"
           }
          ],
          "scattergl": [
           {
            "marker": {
             "colorbar": {
              "outlinewidth": 0,
              "ticks": ""
             }
            },
            "type": "scattergl"
           }
          ],
          "scattermapbox": [
           {
            "marker": {
             "colorbar": {
              "outlinewidth": 0,
              "ticks": ""
             }
            },
            "type": "scattermapbox"
           }
          ],
          "scatterpolar": [
           {
            "marker": {
             "colorbar": {
              "outlinewidth": 0,
              "ticks": ""
             }
            },
            "type": "scatterpolar"
           }
          ],
          "scatterpolargl": [
           {
            "marker": {
             "colorbar": {
              "outlinewidth": 0,
              "ticks": ""
             }
            },
            "type": "scatterpolargl"
           }
          ],
          "scatterternary": [
           {
            "marker": {
             "colorbar": {
              "outlinewidth": 0,
              "ticks": ""
             }
            },
            "type": "scatterternary"
           }
          ],
          "surface": [
           {
            "colorbar": {
             "outlinewidth": 0,
             "ticks": ""
            },
            "colorscale": [
             [
              0,
              "#0d0887"
             ],
             [
              0.1111111111111111,
              "#46039f"
             ],
             [
              0.2222222222222222,
              "#7201a8"
             ],
             [
              0.3333333333333333,
              "#9c179e"
             ],
             [
              0.4444444444444444,
              "#bd3786"
             ],
             [
              0.5555555555555556,
              "#d8576b"
             ],
             [
              0.6666666666666666,
              "#ed7953"
             ],
             [
              0.7777777777777778,
              "#fb9f3a"
             ],
             [
              0.8888888888888888,
              "#fdca26"
             ],
             [
              1,
              "#f0f921"
             ]
            ],
            "type": "surface"
           }
          ],
          "table": [
           {
            "cells": {
             "fill": {
              "color": "#EBF0F8"
             },
             "line": {
              "color": "white"
             }
            },
            "header": {
             "fill": {
              "color": "#C8D4E3"
             },
             "line": {
              "color": "white"
             }
            },
            "type": "table"
           }
          ]
         },
         "layout": {
          "annotationdefaults": {
           "arrowcolor": "#2a3f5f",
           "arrowhead": 0,
           "arrowwidth": 1
          },
          "coloraxis": {
           "colorbar": {
            "outlinewidth": 0,
            "ticks": ""
           }
          },
          "colorscale": {
           "diverging": [
            [
             0,
             "#8e0152"
            ],
            [
             0.1,
             "#c51b7d"
            ],
            [
             0.2,
             "#de77ae"
            ],
            [
             0.3,
             "#f1b6da"
            ],
            [
             0.4,
             "#fde0ef"
            ],
            [
             0.5,
             "#f7f7f7"
            ],
            [
             0.6,
             "#e6f5d0"
            ],
            [
             0.7,
             "#b8e186"
            ],
            [
             0.8,
             "#7fbc41"
            ],
            [
             0.9,
             "#4d9221"
            ],
            [
             1,
             "#276419"
            ]
           ],
           "sequential": [
            [
             0,
             "#0d0887"
            ],
            [
             0.1111111111111111,
             "#46039f"
            ],
            [
             0.2222222222222222,
             "#7201a8"
            ],
            [
             0.3333333333333333,
             "#9c179e"
            ],
            [
             0.4444444444444444,
             "#bd3786"
            ],
            [
             0.5555555555555556,
             "#d8576b"
            ],
            [
             0.6666666666666666,
             "#ed7953"
            ],
            [
             0.7777777777777778,
             "#fb9f3a"
            ],
            [
             0.8888888888888888,
             "#fdca26"
            ],
            [
             1,
             "#f0f921"
            ]
           ],
           "sequentialminus": [
            [
             0,
             "#0d0887"
            ],
            [
             0.1111111111111111,
             "#46039f"
            ],
            [
             0.2222222222222222,
             "#7201a8"
            ],
            [
             0.3333333333333333,
             "#9c179e"
            ],
            [
             0.4444444444444444,
             "#bd3786"
            ],
            [
             0.5555555555555556,
             "#d8576b"
            ],
            [
             0.6666666666666666,
             "#ed7953"
            ],
            [
             0.7777777777777778,
             "#fb9f3a"
            ],
            [
             0.8888888888888888,
             "#fdca26"
            ],
            [
             1,
             "#f0f921"
            ]
           ]
          },
          "colorway": [
           "#636efa",
           "#EF553B",
           "#00cc96",
           "#ab63fa",
           "#FFA15A",
           "#19d3f3",
           "#FF6692",
           "#B6E880",
           "#FF97FF",
           "#FECB52"
          ],
          "font": {
           "color": "#2a3f5f"
          },
          "geo": {
           "bgcolor": "white",
           "lakecolor": "white",
           "landcolor": "#E5ECF6",
           "showlakes": true,
           "showland": true,
           "subunitcolor": "white"
          },
          "hoverlabel": {
           "align": "left"
          },
          "hovermode": "closest",
          "mapbox": {
           "style": "light"
          },
          "paper_bgcolor": "white",
          "plot_bgcolor": "#E5ECF6",
          "polar": {
           "angularaxis": {
            "gridcolor": "white",
            "linecolor": "white",
            "ticks": ""
           },
           "bgcolor": "#E5ECF6",
           "radialaxis": {
            "gridcolor": "white",
            "linecolor": "white",
            "ticks": ""
           }
          },
          "scene": {
           "xaxis": {
            "backgroundcolor": "#E5ECF6",
            "gridcolor": "white",
            "gridwidth": 2,
            "linecolor": "white",
            "showbackground": true,
            "ticks": "",
            "zerolinecolor": "white"
           },
           "yaxis": {
            "backgroundcolor": "#E5ECF6",
            "gridcolor": "white",
            "gridwidth": 2,
            "linecolor": "white",
            "showbackground": true,
            "ticks": "",
            "zerolinecolor": "white"
           },
           "zaxis": {
            "backgroundcolor": "#E5ECF6",
            "gridcolor": "white",
            "gridwidth": 2,
            "linecolor": "white",
            "showbackground": true,
            "ticks": "",
            "zerolinecolor": "white"
           }
          },
          "shapedefaults": {
           "line": {
            "color": "#2a3f5f"
           }
          },
          "ternary": {
           "aaxis": {
            "gridcolor": "white",
            "linecolor": "white",
            "ticks": ""
           },
           "baxis": {
            "gridcolor": "white",
            "linecolor": "white",
            "ticks": ""
           },
           "bgcolor": "#E5ECF6",
           "caxis": {
            "gridcolor": "white",
            "linecolor": "white",
            "ticks": ""
           }
          },
          "title": {
           "x": 0.05
          },
          "xaxis": {
           "automargin": true,
           "gridcolor": "white",
           "linecolor": "white",
           "ticks": "",
           "title": {
            "standoff": 15
           },
           "zerolinecolor": "white",
           "zerolinewidth": 2
          },
          "yaxis": {
           "automargin": true,
           "gridcolor": "white",
           "linecolor": "white",
           "ticks": "",
           "title": {
            "standoff": 15
           },
           "zerolinecolor": "white",
           "zerolinewidth": 2
          }
         }
        },
        "xaxis": {
         "anchor": "y",
         "domain": [
          0,
          1
         ],
         "title": {
          "text": "x"
         }
        },
        "yaxis": {
         "anchor": "x",
         "domain": [
          0,
          1
         ],
         "title": {
          "text": "Appliances"
         }
        }
       }
      },
      "text/html": [
       "<div>\n",
       "        \n",
       "        \n",
       "            <div id=\"1cb85634-2885-4233-bdb6-75e11f9cc0f6\" class=\"plotly-graph-div\" style=\"height:525px; width:100%;\"></div>\n",
       "            <script type=\"text/javascript\">\n",
       "                require([\"plotly\"], function(Plotly) {\n",
       "                    window.PLOTLYENV=window.PLOTLYENV || {};\n",
       "                    \n",
       "                if (document.getElementById(\"1cb85634-2885-4233-bdb6-75e11f9cc0f6\")) {\n",
       "                    Plotly.newPlot(\n",
       "                        '1cb85634-2885-4233-bdb6-75e11f9cc0f6',\n",
       "                        [{\"hoverlabel\": {\"namelength\": 0}, \"hovertemplate\": \"x=%{x}<br>Appliances=%{y}\", \"legendgroup\": \"\", \"line\": {\"color\": \"#636efa\", \"dash\": \"solid\"}, \"mode\": \"lines+markers\", \"name\": \"\", \"showlegend\": false, \"type\": \"scatter\", \"x\": [0, 1, 2, 3, 4, 5, 6, 7, 8, 9, 10, 11, 12, 13, 14, 15, 16, 17, 18, 19, 20, 21, 22, 23], \"xaxis\": \"x\", \"y\": [43390, 42190, 40340, 39650, 40570, 43350, 47440, 64650, 87250, 92710, 103060, 109430, 101630, 102540, 89010, 86990, 98560, 133600, 156670, 117600, 104380, 79320, 56840, 46840], \"yaxis\": \"y\"}],\n",
       "                        {\"legend\": {\"tracegroupgap\": 0}, \"margin\": {\"t\": 60}, \"template\": {\"data\": {\"bar\": [{\"error_x\": {\"color\": \"#2a3f5f\"}, \"error_y\": {\"color\": \"#2a3f5f\"}, \"marker\": {\"line\": {\"color\": \"#E5ECF6\", \"width\": 0.5}}, \"type\": \"bar\"}], \"barpolar\": [{\"marker\": {\"line\": {\"color\": \"#E5ECF6\", \"width\": 0.5}}, \"type\": \"barpolar\"}], \"carpet\": [{\"aaxis\": {\"endlinecolor\": \"#2a3f5f\", \"gridcolor\": \"white\", \"linecolor\": \"white\", \"minorgridcolor\": \"white\", \"startlinecolor\": \"#2a3f5f\"}, \"baxis\": {\"endlinecolor\": \"#2a3f5f\", \"gridcolor\": \"white\", \"linecolor\": \"white\", \"minorgridcolor\": \"white\", \"startlinecolor\": \"#2a3f5f\"}, \"type\": \"carpet\"}], \"choropleth\": [{\"colorbar\": {\"outlinewidth\": 0, \"ticks\": \"\"}, \"type\": \"choropleth\"}], \"contour\": [{\"colorbar\": {\"outlinewidth\": 0, \"ticks\": \"\"}, \"colorscale\": [[0.0, \"#0d0887\"], [0.1111111111111111, \"#46039f\"], [0.2222222222222222, \"#7201a8\"], [0.3333333333333333, \"#9c179e\"], [0.4444444444444444, \"#bd3786\"], [0.5555555555555556, \"#d8576b\"], [0.6666666666666666, \"#ed7953\"], [0.7777777777777778, \"#fb9f3a\"], [0.8888888888888888, \"#fdca26\"], [1.0, \"#f0f921\"]], \"type\": \"contour\"}], \"contourcarpet\": [{\"colorbar\": {\"outlinewidth\": 0, \"ticks\": \"\"}, \"type\": \"contourcarpet\"}], \"heatmap\": [{\"colorbar\": {\"outlinewidth\": 0, \"ticks\": \"\"}, \"colorscale\": [[0.0, \"#0d0887\"], [0.1111111111111111, \"#46039f\"], [0.2222222222222222, \"#7201a8\"], [0.3333333333333333, \"#9c179e\"], [0.4444444444444444, \"#bd3786\"], [0.5555555555555556, \"#d8576b\"], [0.6666666666666666, \"#ed7953\"], [0.7777777777777778, \"#fb9f3a\"], [0.8888888888888888, \"#fdca26\"], [1.0, \"#f0f921\"]], \"type\": \"heatmap\"}], \"heatmapgl\": [{\"colorbar\": {\"outlinewidth\": 0, \"ticks\": \"\"}, \"colorscale\": [[0.0, \"#0d0887\"], [0.1111111111111111, \"#46039f\"], [0.2222222222222222, \"#7201a8\"], [0.3333333333333333, \"#9c179e\"], [0.4444444444444444, \"#bd3786\"], [0.5555555555555556, \"#d8576b\"], [0.6666666666666666, \"#ed7953\"], [0.7777777777777778, \"#fb9f3a\"], [0.8888888888888888, \"#fdca26\"], [1.0, \"#f0f921\"]], \"type\": \"heatmapgl\"}], \"histogram\": [{\"marker\": {\"colorbar\": {\"outlinewidth\": 0, \"ticks\": \"\"}}, \"type\": \"histogram\"}], \"histogram2d\": [{\"colorbar\": {\"outlinewidth\": 0, \"ticks\": \"\"}, \"colorscale\": [[0.0, \"#0d0887\"], [0.1111111111111111, \"#46039f\"], [0.2222222222222222, \"#7201a8\"], [0.3333333333333333, \"#9c179e\"], [0.4444444444444444, \"#bd3786\"], [0.5555555555555556, \"#d8576b\"], [0.6666666666666666, \"#ed7953\"], [0.7777777777777778, \"#fb9f3a\"], [0.8888888888888888, \"#fdca26\"], [1.0, \"#f0f921\"]], \"type\": \"histogram2d\"}], \"histogram2dcontour\": [{\"colorbar\": {\"outlinewidth\": 0, \"ticks\": \"\"}, \"colorscale\": [[0.0, \"#0d0887\"], [0.1111111111111111, \"#46039f\"], [0.2222222222222222, \"#7201a8\"], [0.3333333333333333, \"#9c179e\"], [0.4444444444444444, \"#bd3786\"], [0.5555555555555556, \"#d8576b\"], [0.6666666666666666, \"#ed7953\"], [0.7777777777777778, \"#fb9f3a\"], [0.8888888888888888, \"#fdca26\"], [1.0, \"#f0f921\"]], \"type\": \"histogram2dcontour\"}], \"mesh3d\": [{\"colorbar\": {\"outlinewidth\": 0, \"ticks\": \"\"}, \"type\": \"mesh3d\"}], \"parcoords\": [{\"line\": {\"colorbar\": {\"outlinewidth\": 0, \"ticks\": \"\"}}, \"type\": \"parcoords\"}], \"pie\": [{\"automargin\": true, \"type\": \"pie\"}], \"scatter\": [{\"marker\": {\"colorbar\": {\"outlinewidth\": 0, \"ticks\": \"\"}}, \"type\": \"scatter\"}], \"scatter3d\": [{\"line\": {\"colorbar\": {\"outlinewidth\": 0, \"ticks\": \"\"}}, \"marker\": {\"colorbar\": {\"outlinewidth\": 0, \"ticks\": \"\"}}, \"type\": \"scatter3d\"}], \"scattercarpet\": [{\"marker\": {\"colorbar\": {\"outlinewidth\": 0, \"ticks\": \"\"}}, \"type\": \"scattercarpet\"}], \"scattergeo\": [{\"marker\": {\"colorbar\": {\"outlinewidth\": 0, \"ticks\": \"\"}}, \"type\": \"scattergeo\"}], \"scattergl\": [{\"marker\": {\"colorbar\": {\"outlinewidth\": 0, \"ticks\": \"\"}}, \"type\": \"scattergl\"}], \"scattermapbox\": [{\"marker\": {\"colorbar\": {\"outlinewidth\": 0, \"ticks\": \"\"}}, \"type\": \"scattermapbox\"}], \"scatterpolar\": [{\"marker\": {\"colorbar\": {\"outlinewidth\": 0, \"ticks\": \"\"}}, \"type\": \"scatterpolar\"}], \"scatterpolargl\": [{\"marker\": {\"colorbar\": {\"outlinewidth\": 0, \"ticks\": \"\"}}, \"type\": \"scatterpolargl\"}], \"scatterternary\": [{\"marker\": {\"colorbar\": {\"outlinewidth\": 0, \"ticks\": \"\"}}, \"type\": \"scatterternary\"}], \"surface\": [{\"colorbar\": {\"outlinewidth\": 0, \"ticks\": \"\"}, \"colorscale\": [[0.0, \"#0d0887\"], [0.1111111111111111, \"#46039f\"], [0.2222222222222222, \"#7201a8\"], [0.3333333333333333, \"#9c179e\"], [0.4444444444444444, \"#bd3786\"], [0.5555555555555556, \"#d8576b\"], [0.6666666666666666, \"#ed7953\"], [0.7777777777777778, \"#fb9f3a\"], [0.8888888888888888, \"#fdca26\"], [1.0, \"#f0f921\"]], \"type\": \"surface\"}], \"table\": [{\"cells\": {\"fill\": {\"color\": \"#EBF0F8\"}, \"line\": {\"color\": \"white\"}}, \"header\": {\"fill\": {\"color\": \"#C8D4E3\"}, \"line\": {\"color\": \"white\"}}, \"type\": \"table\"}]}, \"layout\": {\"annotationdefaults\": {\"arrowcolor\": \"#2a3f5f\", \"arrowhead\": 0, \"arrowwidth\": 1}, \"coloraxis\": {\"colorbar\": {\"outlinewidth\": 0, \"ticks\": \"\"}}, \"colorscale\": {\"diverging\": [[0, \"#8e0152\"], [0.1, \"#c51b7d\"], [0.2, \"#de77ae\"], [0.3, \"#f1b6da\"], [0.4, \"#fde0ef\"], [0.5, \"#f7f7f7\"], [0.6, \"#e6f5d0\"], [0.7, \"#b8e186\"], [0.8, \"#7fbc41\"], [0.9, \"#4d9221\"], [1, \"#276419\"]], \"sequential\": [[0.0, \"#0d0887\"], [0.1111111111111111, \"#46039f\"], [0.2222222222222222, \"#7201a8\"], [0.3333333333333333, \"#9c179e\"], [0.4444444444444444, \"#bd3786\"], [0.5555555555555556, \"#d8576b\"], [0.6666666666666666, \"#ed7953\"], [0.7777777777777778, \"#fb9f3a\"], [0.8888888888888888, \"#fdca26\"], [1.0, \"#f0f921\"]], \"sequentialminus\": [[0.0, \"#0d0887\"], [0.1111111111111111, \"#46039f\"], [0.2222222222222222, \"#7201a8\"], [0.3333333333333333, \"#9c179e\"], [0.4444444444444444, \"#bd3786\"], [0.5555555555555556, \"#d8576b\"], [0.6666666666666666, \"#ed7953\"], [0.7777777777777778, \"#fb9f3a\"], [0.8888888888888888, \"#fdca26\"], [1.0, \"#f0f921\"]]}, \"colorway\": [\"#636efa\", \"#EF553B\", \"#00cc96\", \"#ab63fa\", \"#FFA15A\", \"#19d3f3\", \"#FF6692\", \"#B6E880\", \"#FF97FF\", \"#FECB52\"], \"font\": {\"color\": \"#2a3f5f\"}, \"geo\": {\"bgcolor\": \"white\", \"lakecolor\": \"white\", \"landcolor\": \"#E5ECF6\", \"showlakes\": true, \"showland\": true, \"subunitcolor\": \"white\"}, \"hoverlabel\": {\"align\": \"left\"}, \"hovermode\": \"closest\", \"mapbox\": {\"style\": \"light\"}, \"paper_bgcolor\": \"white\", \"plot_bgcolor\": \"#E5ECF6\", \"polar\": {\"angularaxis\": {\"gridcolor\": \"white\", \"linecolor\": \"white\", \"ticks\": \"\"}, \"bgcolor\": \"#E5ECF6\", \"radialaxis\": {\"gridcolor\": \"white\", \"linecolor\": \"white\", \"ticks\": \"\"}}, \"scene\": {\"xaxis\": {\"backgroundcolor\": \"#E5ECF6\", \"gridcolor\": \"white\", \"gridwidth\": 2, \"linecolor\": \"white\", \"showbackground\": true, \"ticks\": \"\", \"zerolinecolor\": \"white\"}, \"yaxis\": {\"backgroundcolor\": \"#E5ECF6\", \"gridcolor\": \"white\", \"gridwidth\": 2, \"linecolor\": \"white\", \"showbackground\": true, \"ticks\": \"\", \"zerolinecolor\": \"white\"}, \"zaxis\": {\"backgroundcolor\": \"#E5ECF6\", \"gridcolor\": \"white\", \"gridwidth\": 2, \"linecolor\": \"white\", \"showbackground\": true, \"ticks\": \"\", \"zerolinecolor\": \"white\"}}, \"shapedefaults\": {\"line\": {\"color\": \"#2a3f5f\"}}, \"ternary\": {\"aaxis\": {\"gridcolor\": \"white\", \"linecolor\": \"white\", \"ticks\": \"\"}, \"baxis\": {\"gridcolor\": \"white\", \"linecolor\": \"white\", \"ticks\": \"\"}, \"bgcolor\": \"#E5ECF6\", \"caxis\": {\"gridcolor\": \"white\", \"linecolor\": \"white\", \"ticks\": \"\"}}, \"title\": {\"x\": 0.05}, \"xaxis\": {\"automargin\": true, \"gridcolor\": \"white\", \"linecolor\": \"white\", \"ticks\": \"\", \"title\": {\"standoff\": 15}, \"zerolinecolor\": \"white\", \"zerolinewidth\": 2}, \"yaxis\": {\"automargin\": true, \"gridcolor\": \"white\", \"linecolor\": \"white\", \"ticks\": \"\", \"title\": {\"standoff\": 15}, \"zerolinecolor\": \"white\", \"zerolinewidth\": 2}}}, \"xaxis\": {\"anchor\": \"y\", \"domain\": [0.0, 1.0], \"title\": {\"text\": \"x\"}}, \"yaxis\": {\"anchor\": \"x\", \"domain\": [0.0, 1.0], \"title\": {\"text\": \"Appliances\"}}},\n",
       "                        {\"responsive\": true}\n",
       "                    ).then(function(){\n",
       "                            \n",
       "var gd = document.getElementById('1cb85634-2885-4233-bdb6-75e11f9cc0f6');\n",
       "var x = new MutationObserver(function (mutations, observer) {{\n",
       "        var display = window.getComputedStyle(gd).display;\n",
       "        if (!display || display === 'none') {{\n",
       "            console.log([gd, 'removed!']);\n",
       "            Plotly.purge(gd);\n",
       "            observer.disconnect();\n",
       "        }}\n",
       "}});\n",
       "\n",
       "// Listen for the removal of the full notebook cells\n",
       "var notebookContainer = gd.closest('#notebook-container');\n",
       "if (notebookContainer) {{\n",
       "    x.observe(notebookContainer, {childList: true});\n",
       "}}\n",
       "\n",
       "// Listen for the clearing of the current output cell\n",
       "var outputEl = gd.closest('.output');\n",
       "if (outputEl) {{\n",
       "    x.observe(outputEl, {childList: true});\n",
       "}}\n",
       "\n",
       "                        })\n",
       "                };\n",
       "                });\n",
       "            </script>\n",
       "        </div>"
      ]
     },
     "metadata": {},
     "output_type": "display_data"
    }
   ],
   "source": [
    "hour_sum= dfk.groupby('hour').sum()\n",
    "px.line(hour_sum, y = 'Appliances', x = hour_sum.index).update_traces(mode='lines+markers')"
   ]
  },
  {
   "cell_type": "code",
   "execution_count": 25,
   "metadata": {},
   "outputs": [
    {
     "data": {
      "image/png": "[encoded data removed]",
      "text/plain": [
       "<Figure size 1800x1000 with 2 Axes>"
      ]
     },
     "metadata": {
      "needs_background": "light"
     },
     "output_type": "display_data"
    }
   ],
   "source": [
    "plt.figure(figsize=(18,10),dpi=100)\n",
    "sns.heatmap(dfk.corr(),square=True,annot=False,linewidths=.5,vmin=-1,vmax=1,cmap='Greens_r')\n",
    "plt.title('Correlation Matrix(Energy)')\n",
    "plt.show()"
   ]
  },
  {
   "cell_type": "code",
   "execution_count": 26,
   "metadata": {},
   "outputs": [
    {
     "data": {
      "text/plain": [
       "Appliances    1.000000\n",
       "RH_out       -0.192946\n",
       "T2            0.152521\n",
       "T6            0.148259\n",
       "T_out         0.124036\n",
       "RH_1          0.122618\n",
       "RH_8         -0.119843\n",
       "T3            0.114080\n",
       "Windspeed     0.112784\n",
       "RH_6         -0.105512\n",
       "Name: Appliances, dtype: float64"
      ]
     },
     "execution_count": 26,
     "metadata": {},
     "output_type": "execute_result"
    }
   ],
   "source": [
    "high_corr=dfk.corr().Appliances.abs().sort_values(ascending=False).index[0:10]\n",
    "dfk[high_corr].corr().Appliances"
   ]
  },
  {
   "cell_type": "markdown",
   "metadata": {},
   "source": [
    "### 6.Building Models"
   ]
  },
  {
   "cell_type": "markdown",
   "metadata": {},
   "source": [
    "#### First of all, Let's start with winsorized version (without outliers)"
   ]
  },
  {
   "cell_type": "code",
   "execution_count": 27,
   "metadata": {},
   "outputs": [],
   "source": [
    "x=dfkw.drop('w_Appliances',axis=1)\n",
    "y=dfkw.w_Appliances"
   ]
  },
  {
   "cell_type": "code",
   "execution_count": 28,
   "metadata": {
    "scrolled": true
   },
   "outputs": [
    {
     "name": "stdout",
     "output_type": "stream",
     "text": [
      "Train Data Count : 2632\n",
      "Test Data Count   : 658\n"
     ]
    }
   ],
   "source": [
    "X_train, X_test, y_train, y_test = train_test_split(x, y, test_size = 0.2, random_state = 465)\n",
    "print(\"Train Data Count : {}\".format(X_train.shape[0]))\n",
    "print(\"Test Data Count   : {}\".format(X_test.shape[0]))"
   ]
  },
  {
   "cell_type": "code",
   "execution_count": 29,
   "metadata": {},
   "outputs": [
    {
     "data": {
      "text/html": [
       "<table class=\"simpletable\">\n",
       "<caption>OLS Regression Results</caption>\n",
       "<tr>\n",
       "  <th>Dep. Variable:</th>      <td>w_Appliances</td>   <th>  R-squared:         </th> <td>   0.294</td> \n",
       "</tr>\n",
       "<tr>\n",
       "  <th>Model:</th>                   <td>OLS</td>       <th>  Adj. R-squared:    </th> <td>   0.288</td> \n",
       "</tr>\n",
       "<tr>\n",
       "  <th>Method:</th>             <td>Least Squares</td>  <th>  F-statistic:       </th> <td>   43.47</td> \n",
       "</tr>\n",
       "<tr>\n",
       "  <th>Date:</th>             <td>Tue, 18 Feb 2020</td> <th>  Prob (F-statistic):</th> <td>2.28e-176</td>\n",
       "</tr>\n",
       "<tr>\n",
       "  <th>Time:</th>                 <td>15:33:24</td>     <th>  Log-Likelihood:    </th> <td> -18417.</td> \n",
       "</tr>\n",
       "<tr>\n",
       "  <th>No. Observations:</th>      <td>  2632</td>      <th>  AIC:               </th> <td>3.689e+04</td>\n",
       "</tr>\n",
       "<tr>\n",
       "  <th>Df Residuals:</th>          <td>  2606</td>      <th>  BIC:               </th> <td>3.704e+04</td>\n",
       "</tr>\n",
       "<tr>\n",
       "  <th>Df Model:</th>              <td>    25</td>      <th>                     </th>     <td> </td>    \n",
       "</tr>\n",
       "<tr>\n",
       "  <th>Covariance Type:</th>      <td>nonrobust</td>    <th>                     </th>     <td> </td>    \n",
       "</tr>\n",
       "</table>\n",
       "<table class=\"simpletable\">\n",
       "<tr>\n",
       "        <td></td>           <th>coef</th>     <th>std err</th>      <th>t</th>      <th>P>|t|</th>  <th>[0.025</th>    <th>0.975]</th>  \n",
       "</tr>\n",
       "<tr>\n",
       "  <th>const</th>         <td> -693.6551</td> <td> 2021.390</td> <td>   -0.343</td> <td> 0.732</td> <td>-4657.348</td> <td> 3270.037</td>\n",
       "</tr>\n",
       "<tr>\n",
       "  <th>w_RH_4</th>        <td>    5.0483</td> <td>    5.051</td> <td>    0.999</td> <td> 0.318</td> <td>   -4.857</td> <td>   14.953</td>\n",
       "</tr>\n",
       "<tr>\n",
       "  <th>w_RH_6</th>        <td>    1.4284</td> <td>    0.527</td> <td>    2.711</td> <td> 0.007</td> <td>    0.395</td> <td>    2.462</td>\n",
       "</tr>\n",
       "<tr>\n",
       "  <th>w_T7</th>          <td>   -9.3351</td> <td>   10.317</td> <td>   -0.905</td> <td> 0.366</td> <td>  -29.566</td> <td>   10.896</td>\n",
       "</tr>\n",
       "<tr>\n",
       "  <th>w_T1</th>          <td>   29.3171</td> <td>   14.687</td> <td>    1.996</td> <td> 0.046</td> <td>    0.519</td> <td>   58.116</td>\n",
       "</tr>\n",
       "<tr>\n",
       "  <th>w_RH_1</th>        <td>   78.1923</td> <td>    5.384</td> <td>   14.523</td> <td> 0.000</td> <td>   67.635</td> <td>   88.750</td>\n",
       "</tr>\n",
       "<tr>\n",
       "  <th>w_T2</th>          <td>  -79.9372</td> <td>   12.285</td> <td>   -6.507</td> <td> 0.000</td> <td> -104.026</td> <td>  -55.848</td>\n",
       "</tr>\n",
       "<tr>\n",
       "  <th>w_RH_2</th>        <td>  -56.2056</td> <td>    5.404</td> <td>  -10.401</td> <td> 0.000</td> <td>  -66.802</td> <td>  -45.610</td>\n",
       "</tr>\n",
       "<tr>\n",
       "  <th>w_T3</th>          <td>   83.2624</td> <td>    8.494</td> <td>    9.802</td> <td> 0.000</td> <td>   66.606</td> <td>   99.919</td>\n",
       "</tr>\n",
       "<tr>\n",
       "  <th>w_T4</th>          <td>   21.3689</td> <td>    7.588</td> <td>    2.816</td> <td> 0.005</td> <td>    6.489</td> <td>   36.248</td>\n",
       "</tr>\n",
       "<tr>\n",
       "  <th>w_T5</th>          <td>    6.7369</td> <td>    9.282</td> <td>    0.726</td> <td> 0.468</td> <td>  -11.464</td> <td>   24.938</td>\n",
       "</tr>\n",
       "<tr>\n",
       "  <th>w_RH_5</th>        <td>    1.4611</td> <td>    0.936</td> <td>    1.561</td> <td> 0.119</td> <td>   -0.374</td> <td>    3.297</td>\n",
       "</tr>\n",
       "<tr>\n",
       "  <th>w_T6</th>          <td>   36.3985</td> <td>    5.303</td> <td>    6.863</td> <td> 0.000</td> <td>   26.000</td> <td>   46.797</td>\n",
       "</tr>\n",
       "<tr>\n",
       "  <th>w_RH_7</th>        <td>   -4.8309</td> <td>    3.363</td> <td>   -1.436</td> <td> 0.151</td> <td>  -11.426</td> <td>    1.764</td>\n",
       "</tr>\n",
       "<tr>\n",
       "  <th>w_T_out</th>       <td>  -35.9115</td> <td>    9.757</td> <td>   -3.681</td> <td> 0.000</td> <td>  -55.043</td> <td>  -16.780</td>\n",
       "</tr>\n",
       "<tr>\n",
       "  <th>w_Press_mm_hg</th> <td>   -0.4517</td> <td>    0.847</td> <td>   -0.533</td> <td> 0.594</td> <td>   -2.112</td> <td>    1.209</td>\n",
       "</tr>\n",
       "<tr>\n",
       "  <th>w_RH_out</th>      <td>   -1.1154</td> <td>    1.753</td> <td>   -0.636</td> <td> 0.525</td> <td>   -4.553</td> <td>    2.322</td>\n",
       "</tr>\n",
       "<tr>\n",
       "  <th>w_Windspeed</th>   <td>    8.6852</td> <td>    2.725</td> <td>    3.187</td> <td> 0.001</td> <td>    3.342</td> <td>   14.028</td>\n",
       "</tr>\n",
       "<tr>\n",
       "  <th>w_Visibility</th>  <td>    0.9234</td> <td>    0.596</td> <td>    1.549</td> <td> 0.122</td> <td>   -0.246</td> <td>    2.093</td>\n",
       "</tr>\n",
       "<tr>\n",
       "  <th>w_RH_3</th>        <td>   10.3253</td> <td>    5.481</td> <td>    1.884</td> <td> 0.060</td> <td>   -0.422</td> <td>   21.073</td>\n",
       "</tr>\n",
       "<tr>\n",
       "  <th>w_T8</th>          <td>   49.5570</td> <td>    7.770</td> <td>    6.378</td> <td> 0.000</td> <td>   34.320</td> <td>   64.794</td>\n",
       "</tr>\n",
       "<tr>\n",
       "  <th>w_RH_8</th>        <td>  -28.7636</td> <td>    2.877</td> <td>   -9.998</td> <td> 0.000</td> <td>  -34.405</td> <td>  -23.123</td>\n",
       "</tr>\n",
       "<tr>\n",
       "  <th>w_T9</th>          <td> -102.0488</td> <td>   13.591</td> <td>   -7.508</td> <td> 0.000</td> <td> -128.699</td> <td>  -75.398</td>\n",
       "</tr>\n",
       "<tr>\n",
       "  <th>w_RH_9</th>        <td>   -6.8033</td> <td>    3.263</td> <td>   -2.085</td> <td> 0.037</td> <td>  -13.202</td> <td>   -0.404</td>\n",
       "</tr>\n",
       "<tr>\n",
       "  <th>w_Tdewpoint</th>   <td>    5.1322</td> <td>    8.650</td> <td>    0.593</td> <td> 0.553</td> <td>  -11.829</td> <td>   22.093</td>\n",
       "</tr>\n",
       "<tr>\n",
       "  <th>w_rv1</th>         <td>    0.0170</td> <td>    0.444</td> <td>    0.038</td> <td> 0.969</td> <td>   -0.853</td> <td>    0.887</td>\n",
       "</tr>\n",
       "<tr>\n",
       "  <th>w_rv2</th>         <td>    0.0170</td> <td>    0.444</td> <td>    0.038</td> <td> 0.969</td> <td>   -0.853</td> <td>    0.887</td>\n",
       "</tr>\n",
       "</table>\n",
       "<table class=\"simpletable\">\n",
       "<tr>\n",
       "  <th>Omnibus:</th>       <td>378.770</td> <th>  Durbin-Watson:     </th> <td>   1.948</td> \n",
       "</tr>\n",
       "<tr>\n",
       "  <th>Prob(Omnibus):</th> <td> 0.000</td>  <th>  Jarque-Bera (JB):  </th> <td> 560.688</td> \n",
       "</tr>\n",
       "<tr>\n",
       "  <th>Skew:</th>          <td> 1.054</td>  <th>  Prob(JB):          </th> <td>1.77e-122</td>\n",
       "</tr>\n",
       "<tr>\n",
       "  <th>Kurtosis:</th>      <td> 3.819</td>  <th>  Cond. No.          </th> <td>1.00e+16</td> \n",
       "</tr>\n",
       "</table><br/><br/>Warnings:<br/>[1] Standard Errors assume that the covariance matrix of the errors is correctly specified.<br/>[2] The smallest eigenvalue is  4e-23. This might indicate that there are<br/>strong multicollinearity problems or that the design matrix is singular."
      ],
      "text/plain": [
       "<class 'statsmodels.iolib.summary.Summary'>\n",
       "\"\"\"\n",
       "                            OLS Regression Results                            \n",
       "==============================================================================\n",
       "Dep. Variable:           w_Appliances   R-squared:                       0.294\n",
       "Model:                            OLS   Adj. R-squared:                  0.288\n",
       "Method:                 Least Squares   F-statistic:                     43.47\n",
       "Date:                Tue, 18 Feb 2020   Prob (F-statistic):          2.28e-176\n",
       "Time:                        15:33:24   Log-Likelihood:                -18417.\n",
       "No. Observations:                2632   AIC:                         3.689e+04\n",
       "Df Residuals:                    2606   BIC:                         3.704e+04\n",
       "Df Model:                          25                                         \n",
       "Covariance Type:            nonrobust                                         \n",
       "=================================================================================\n",
       "                    coef    std err          t      P>|t|      [0.025      0.975]\n",
       "---------------------------------------------------------------------------------\n",
       "const          -693.6551   2021.390     -0.343      0.732   -4657.348    3270.037\n",
       "w_RH_4            5.0483      5.051      0.999      0.318      -4.857      14.953\n",
       "w_RH_6            1.4284      0.527      2.711      0.007       0.395       2.462\n",
       "w_T7             -9.3351     10.317     -0.905      0.366     -29.566      10.896\n",
       "w_T1             29.3171     14.687      1.996      0.046       0.519      58.116\n",
       "w_RH_1           78.1923      5.384     14.523      0.000      67.635      88.750\n",
       "w_T2            -79.9372     12.285     -6.507      0.000    -104.026     -55.848\n",
       "w_RH_2          -56.2056      5.404    -10.401      0.000     -66.802     -45.610\n",
       "w_T3             83.2624      8.494      9.802      0.000      66.606      99.919\n",
       "w_T4             21.3689      7.588      2.816      0.005       6.489      36.248\n",
       "w_T5              6.7369      9.282      0.726      0.468     -11.464      24.938\n",
       "w_RH_5            1.4611      0.936      1.561      0.119      -0.374       3.297\n",
       "w_T6             36.3985      5.303      6.863      0.000      26.000      46.797\n",
       "w_RH_7           -4.8309      3.363     -1.436      0.151     -11.426       1.764\n",
       "w_T_out         -35.9115      9.757     -3.681      0.000     -55.043     -16.780\n",
       "w_Press_mm_hg    -0.4517      0.847     -0.533      0.594      -2.112       1.209\n",
       "w_RH_out         -1.1154      1.753     -0.636      0.525      -4.553       2.322\n",
       "w_Windspeed       8.6852      2.725      3.187      0.001       3.342      14.028\n",
       "w_Visibility      0.9234      0.596      1.549      0.122      -0.246       2.093\n",
       "w_RH_3           10.3253      5.481      1.884      0.060      -0.422      21.073\n",
       "w_T8             49.5570      7.770      6.378      0.000      34.320      64.794\n",
       "w_RH_8          -28.7636      2.877     -9.998      0.000     -34.405     -23.123\n",
       "w_T9           -102.0488     13.591     -7.508      0.000    -128.699     -75.398\n",
       "w_RH_9           -6.8033      3.263     -2.085      0.037     -13.202      -0.404\n",
       "w_Tdewpoint       5.1322      8.650      0.593      0.553     -11.829      22.093\n",
       "w_rv1             0.0170      0.444      0.038      0.969      -0.853       0.887\n",
       "w_rv2             0.0170      0.444      0.038      0.969      -0.853       0.887\n",
       "==============================================================================\n",
       "Omnibus:                      378.770   Durbin-Watson:                   1.948\n",
       "Prob(Omnibus):                  0.000   Jarque-Bera (JB):              560.688\n",
       "Skew:                           1.054   Prob(JB):                    1.77e-122\n",
       "Kurtosis:                       3.819   Cond. No.                     1.00e+16\n",
       "==============================================================================\n",
       "\n",
       "Warnings:\n",
       "[1] Standard Errors assume that the covariance matrix of the errors is correctly specified.\n",
       "[2] The smallest eigenvalue is  4e-23. This might indicate that there are\n",
       "strong multicollinearity problems or that the design matrix is singular.\n",
       "\"\"\""
      ]
     },
     "execution_count": 29,
     "metadata": {},
     "output_type": "execute_result"
    }
   ],
   "source": [
    "X_train = sm.add_constant(X_train)\n",
    "model1 = sm.OLS(y_train, X_train).fit()\n",
    "model1.summary()"
   ]
  },
  {
   "cell_type": "code",
   "execution_count": 30,
   "metadata": {},
   "outputs": [
    {
     "data": {
      "image/png": "[encoded data removed]",
      "text/plain": [
       "<Figure size 600x400 with 1 Axes>"
      ]
     },
     "metadata": {
      "needs_background": "light"
     },
     "output_type": "display_data"
    },
    {
     "name": "stdout",
     "output_type": "stream",
     "text": [
      "Root Mean Squared Error (RMSE)                : 254.948\n",
      "Root Mean Squared Error (RMSE) of Train Set   : 264.692\n"
     ]
    }
   ],
   "source": [
    "X_test = sm.add_constant(X_test)\n",
    "y_preds = model1.predict(X_test)\n",
    "X_train= sm.add_constant(X_train)\n",
    "y_preds_train = model1.predict(X_train)\n",
    "\n",
    "baslik_font = {'family': 'arial','color':  'darkred','weight': 'bold','size': 12 }\n",
    "eksen_font = {'family': 'arial','color':  'darkblue','weight': 'bold','size': 10 }\n",
    "plt.figure(dpi = 100)\n",
    "\n",
    "sns.set(color_codes=True)\n",
    "plt.scatter(y_test, y_preds)\n",
    "plt.plot(y_test, y_test, color=\"red\")\n",
    "plt.xlabel(\"Real Values\", fontdict=eksen_font)\n",
    "plt.ylabel(\"Predicted Values\", fontdict=eksen_font)\n",
    "plt.title(\"Appliances: Real and Predicted Values\", fontdict=baslik_font)\n",
    "plt.tight_layout()\n",
    "plt.show()\n",
    "\n",
    "print(\"Root Mean Squared Error (RMSE)                : {:.3f}\".format(rmse(y_test, y_preds)))\n",
    "print(\"Root Mean Squared Error (RMSE) of Train Set   : {:.3f}\".format(rmse(y_train, y_preds_train)))"
   ]
  },
  {
   "cell_type": "markdown",
   "metadata": {},
   "source": [
    "#### Second, try log transformation for dfk."
   ]
  },
  {
   "cell_type": "code",
   "execution_count": 31,
   "metadata": {},
   "outputs": [],
   "source": [
    "df3=dfk.copy()"
   ]
  },
  {
   "cell_type": "code",
   "execution_count": 32,
   "metadata": {},
   "outputs": [],
   "source": [
    "dflog=pd.DataFrame()\n",
    "for col in df3.columns:\n",
    "    dflog['log_%s'%col]=np.log(df3[col])"
   ]
  },
  {
   "cell_type": "code",
   "execution_count": 33,
   "metadata": {},
   "outputs": [],
   "source": [
    "from sklearn.preprocessing import MinMaxScaler\n",
    "scaler = MinMaxScaler(feature_range=(0,1))\n",
    "scaler.fit(dflog)\n",
    "min_max=scaler.transform(dflog)\n",
    "scale_df=pd.DataFrame(min_max)"
   ]
  },
  {
   "cell_type": "code",
   "execution_count": 34,
   "metadata": {},
   "outputs": [],
   "source": [
    "scale_df=scale_df.rename({0:'Appliances'},axis=1)"
   ]
  },
  {
   "cell_type": "code",
   "execution_count": 35,
   "metadata": {},
   "outputs": [],
   "source": [
    "x=scale_df.drop('Appliances',axis=1)\n",
    "y=scale_df['Appliances']"
   ]
  },
  {
   "cell_type": "code",
   "execution_count": 36,
   "metadata": {},
   "outputs": [
    {
     "name": "stdout",
     "output_type": "stream",
     "text": [
      "Train Data Count : 2632\n",
      "Test Data Count   : 658\n"
     ]
    }
   ],
   "source": [
    "X_train, X_test, y_train, y_test = train_test_split(x, y, test_size = 0.2, random_state = 465)\n",
    "print(\"Train Data Count : {}\".format(X_train.shape[0]))\n",
    "print(\"Test Data Count   : {}\".format(X_test.shape[0]))"
   ]
  },
  {
   "cell_type": "code",
   "execution_count": 37,
   "metadata": {
    "scrolled": true
   },
   "outputs": [
    {
     "data": {
      "text/html": [
       "<table class=\"simpletable\">\n",
       "<caption>OLS Regression Results</caption>\n",
       "<tr>\n",
       "  <th>Dep. Variable:</th>       <td>Appliances</td>    <th>  R-squared:         </th> <td>   0.323</td> \n",
       "</tr>\n",
       "<tr>\n",
       "  <th>Model:</th>                   <td>OLS</td>       <th>  Adj. R-squared:    </th> <td>   0.317</td> \n",
       "</tr>\n",
       "<tr>\n",
       "  <th>Method:</th>             <td>Least Squares</td>  <th>  F-statistic:       </th> <td>   49.73</td> \n",
       "</tr>\n",
       "<tr>\n",
       "  <th>Date:</th>             <td>Tue, 18 Feb 2020</td> <th>  Prob (F-statistic):</th> <td>2.12e-199</td>\n",
       "</tr>\n",
       "<tr>\n",
       "  <th>Time:</th>                 <td>15:33:26</td>     <th>  Log-Likelihood:    </th> <td>  1019.0</td> \n",
       "</tr>\n",
       "<tr>\n",
       "  <th>No. Observations:</th>      <td>  2632</td>      <th>  AIC:               </th> <td>  -1986.</td> \n",
       "</tr>\n",
       "<tr>\n",
       "  <th>Df Residuals:</th>          <td>  2606</td>      <th>  BIC:               </th> <td>  -1833.</td> \n",
       "</tr>\n",
       "<tr>\n",
       "  <th>Df Model:</th>              <td>    25</td>      <th>                     </th>     <td> </td>    \n",
       "</tr>\n",
       "<tr>\n",
       "  <th>Covariance Type:</th>      <td>nonrobust</td>    <th>                     </th>     <td> </td>    \n",
       "</tr>\n",
       "</table>\n",
       "<table class=\"simpletable\">\n",
       "<tr>\n",
       "    <td></td>       <th>coef</th>     <th>std err</th>      <th>t</th>      <th>P>|t|</th>  <th>[0.025</th>    <th>0.975]</th>  \n",
       "</tr>\n",
       "<tr>\n",
       "  <th>const</th> <td>   -1.1372</td> <td>    0.897</td> <td>   -1.268</td> <td> 0.205</td> <td>   -2.895</td> <td>    0.621</td>\n",
       "</tr>\n",
       "<tr>\n",
       "  <th>1</th>     <td>    0.3344</td> <td>    0.091</td> <td>    3.673</td> <td> 0.000</td> <td>    0.156</td> <td>    0.513</td>\n",
       "</tr>\n",
       "<tr>\n",
       "  <th>2</th>     <td>    1.5375</td> <td>    0.104</td> <td>   14.752</td> <td> 0.000</td> <td>    1.333</td> <td>    1.742</td>\n",
       "</tr>\n",
       "<tr>\n",
       "  <th>3</th>     <td>   -0.9440</td> <td>    0.121</td> <td>   -7.788</td> <td> 0.000</td> <td>   -1.182</td> <td>   -0.706</td>\n",
       "</tr>\n",
       "<tr>\n",
       "  <th>4</th>     <td>   -1.6665</td> <td>    0.161</td> <td>  -10.355</td> <td> 0.000</td> <td>   -1.982</td> <td>   -1.351</td>\n",
       "</tr>\n",
       "<tr>\n",
       "  <th>5</th>     <td>    0.5692</td> <td>    0.061</td> <td>    9.370</td> <td> 0.000</td> <td>    0.450</td> <td>    0.688</td>\n",
       "</tr>\n",
       "<tr>\n",
       "  <th>6</th>     <td>    0.1641</td> <td>    0.066</td> <td>    2.474</td> <td> 0.013</td> <td>    0.034</td> <td>    0.294</td>\n",
       "</tr>\n",
       "<tr>\n",
       "  <th>7</th>     <td>    0.1534</td> <td>    0.052</td> <td>    2.953</td> <td> 0.003</td> <td>    0.052</td> <td>    0.255</td>\n",
       "</tr>\n",
       "<tr>\n",
       "  <th>8</th>     <td>    0.1018</td> <td>    0.068</td> <td>    1.499</td> <td> 0.134</td> <td>   -0.031</td> <td>    0.235</td>\n",
       "</tr>\n",
       "<tr>\n",
       "  <th>9</th>     <td>    0.0260</td> <td>    0.059</td> <td>    0.439</td> <td> 0.661</td> <td>   -0.090</td> <td>    0.142</td>\n",
       "</tr>\n",
       "<tr>\n",
       "  <th>10</th>    <td>    0.0793</td> <td>    0.029</td> <td>    2.761</td> <td> 0.006</td> <td>    0.023</td> <td>    0.136</td>\n",
       "</tr>\n",
       "<tr>\n",
       "  <th>11</th>    <td>    0.7658</td> <td>    0.109</td> <td>    7.040</td> <td> 0.000</td> <td>    0.552</td> <td>    0.979</td>\n",
       "</tr>\n",
       "<tr>\n",
       "  <th>12</th>    <td>    0.0261</td> <td>    0.032</td> <td>    0.818</td> <td> 0.413</td> <td>   -0.037</td> <td>    0.089</td>\n",
       "</tr>\n",
       "<tr>\n",
       "  <th>13</th>    <td>   -0.1246</td> <td>    0.067</td> <td>   -1.862</td> <td> 0.063</td> <td>   -0.256</td> <td>    0.007</td>\n",
       "</tr>\n",
       "<tr>\n",
       "  <th>14</th>    <td>   -0.0471</td> <td>    0.056</td> <td>   -0.842</td> <td> 0.400</td> <td>   -0.157</td> <td>    0.063</td>\n",
       "</tr>\n",
       "<tr>\n",
       "  <th>15</th>    <td>    0.4104</td> <td>    0.051</td> <td>    8.119</td> <td> 0.000</td> <td>    0.311</td> <td>    0.509</td>\n",
       "</tr>\n",
       "<tr>\n",
       "  <th>16</th>    <td>   -0.5663</td> <td>    0.052</td> <td>  -10.874</td> <td> 0.000</td> <td>   -0.668</td> <td>   -0.464</td>\n",
       "</tr>\n",
       "<tr>\n",
       "  <th>17</th>    <td>   -0.5939</td> <td>    0.082</td> <td>   -7.235</td> <td> 0.000</td> <td>   -0.755</td> <td>   -0.433</td>\n",
       "</tr>\n",
       "<tr>\n",
       "  <th>18</th>    <td>   -0.1015</td> <td>    0.049</td> <td>   -2.092</td> <td> 0.037</td> <td>   -0.197</td> <td>   -0.006</td>\n",
       "</tr>\n",
       "<tr>\n",
       "  <th>19</th>    <td>    2.0035</td> <td>    1.437</td> <td>    1.394</td> <td> 0.163</td> <td>   -0.814</td> <td>    4.821</td>\n",
       "</tr>\n",
       "<tr>\n",
       "  <th>20</th>    <td>   -0.0044</td> <td>    0.023</td> <td>   -0.197</td> <td> 0.844</td> <td>   -0.049</td> <td>    0.040</td>\n",
       "</tr>\n",
       "<tr>\n",
       "  <th>21</th>    <td>    1.8111</td> <td>    0.964</td> <td>    1.878</td> <td> 0.060</td> <td>   -0.080</td> <td>    3.702</td>\n",
       "</tr>\n",
       "<tr>\n",
       "  <th>22</th>    <td>    0.0754</td> <td>    0.021</td> <td>    3.598</td> <td> 0.000</td> <td>    0.034</td> <td>    0.117</td>\n",
       "</tr>\n",
       "<tr>\n",
       "  <th>23</th>    <td>    0.0915</td> <td>    0.041</td> <td>    2.248</td> <td> 0.025</td> <td>    0.012</td> <td>    0.171</td>\n",
       "</tr>\n",
       "<tr>\n",
       "  <th>24</th>    <td>   -1.8825</td> <td>    1.052</td> <td>   -1.789</td> <td> 0.074</td> <td>   -3.946</td> <td>    0.181</td>\n",
       "</tr>\n",
       "<tr>\n",
       "  <th>25</th>    <td>    0.0039</td> <td>    0.013</td> <td>    0.289</td> <td> 0.772</td> <td>   -0.022</td> <td>    0.030</td>\n",
       "</tr>\n",
       "<tr>\n",
       "  <th>26</th>    <td>    0.0039</td> <td>    0.013</td> <td>    0.289</td> <td> 0.772</td> <td>   -0.022</td> <td>    0.030</td>\n",
       "</tr>\n",
       "</table>\n",
       "<table class=\"simpletable\">\n",
       "<tr>\n",
       "  <th>Omnibus:</th>       <td>381.276</td> <th>  Durbin-Watson:     </th> <td>   1.929</td> \n",
       "</tr>\n",
       "<tr>\n",
       "  <th>Prob(Omnibus):</th> <td> 0.000</td>  <th>  Jarque-Bera (JB):  </th> <td> 590.098</td> \n",
       "</tr>\n",
       "<tr>\n",
       "  <th>Skew:</th>          <td> 1.010</td>  <th>  Prob(JB):          </th> <td>7.28e-129</td>\n",
       "</tr>\n",
       "<tr>\n",
       "  <th>Kurtosis:</th>      <td> 4.140</td>  <th>  Cond. No.          </th> <td>1.06e+16</td> \n",
       "</tr>\n",
       "</table><br/><br/>Warnings:<br/>[1] Standard Errors assume that the covariance matrix of the errors is correctly specified.<br/>[2] The smallest eigenvalue is 2.24e-28. This might indicate that there are<br/>strong multicollinearity problems or that the design matrix is singular."
      ],
      "text/plain": [
       "<class 'statsmodels.iolib.summary.Summary'>\n",
       "\"\"\"\n",
       "                            OLS Regression Results                            \n",
       "==============================================================================\n",
       "Dep. Variable:             Appliances   R-squared:                       0.323\n",
       "Model:                            OLS   Adj. R-squared:                  0.317\n",
       "Method:                 Least Squares   F-statistic:                     49.73\n",
       "Date:                Tue, 18 Feb 2020   Prob (F-statistic):          2.12e-199\n",
       "Time:                        15:33:26   Log-Likelihood:                 1019.0\n",
       "No. Observations:                2632   AIC:                            -1986.\n",
       "Df Residuals:                    2606   BIC:                            -1833.\n",
       "Df Model:                          25                                         \n",
       "Covariance Type:            nonrobust                                         \n",
       "==============================================================================\n",
       "                 coef    std err          t      P>|t|      [0.025      0.975]\n",
       "------------------------------------------------------------------------------\n",
       "const         -1.1372      0.897     -1.268      0.205      -2.895       0.621\n",
       "1              0.3344      0.091      3.673      0.000       0.156       0.513\n",
       "2              1.5375      0.104     14.752      0.000       1.333       1.742\n",
       "3             -0.9440      0.121     -7.788      0.000      -1.182      -0.706\n",
       "4             -1.6665      0.161    -10.355      0.000      -1.982      -1.351\n",
       "5              0.5692      0.061      9.370      0.000       0.450       0.688\n",
       "6              0.1641      0.066      2.474      0.013       0.034       0.294\n",
       "7              0.1534      0.052      2.953      0.003       0.052       0.255\n",
       "8              0.1018      0.068      1.499      0.134      -0.031       0.235\n",
       "9              0.0260      0.059      0.439      0.661      -0.090       0.142\n",
       "10             0.0793      0.029      2.761      0.006       0.023       0.136\n",
       "11             0.7658      0.109      7.040      0.000       0.552       0.979\n",
       "12             0.0261      0.032      0.818      0.413      -0.037       0.089\n",
       "13            -0.1246      0.067     -1.862      0.063      -0.256       0.007\n",
       "14            -0.0471      0.056     -0.842      0.400      -0.157       0.063\n",
       "15             0.4104      0.051      8.119      0.000       0.311       0.509\n",
       "16            -0.5663      0.052    -10.874      0.000      -0.668      -0.464\n",
       "17            -0.5939      0.082     -7.235      0.000      -0.755      -0.433\n",
       "18            -0.1015      0.049     -2.092      0.037      -0.197      -0.006\n",
       "19             2.0035      1.437      1.394      0.163      -0.814       4.821\n",
       "20            -0.0044      0.023     -0.197      0.844      -0.049       0.040\n",
       "21             1.8111      0.964      1.878      0.060      -0.080       3.702\n",
       "22             0.0754      0.021      3.598      0.000       0.034       0.117\n",
       "23             0.0915      0.041      2.248      0.025       0.012       0.171\n",
       "24            -1.8825      1.052     -1.789      0.074      -3.946       0.181\n",
       "25             0.0039      0.013      0.289      0.772      -0.022       0.030\n",
       "26             0.0039      0.013      0.289      0.772      -0.022       0.030\n",
       "==============================================================================\n",
       "Omnibus:                      381.276   Durbin-Watson:                   1.929\n",
       "Prob(Omnibus):                  0.000   Jarque-Bera (JB):              590.098\n",
       "Skew:                           1.010   Prob(JB):                    7.28e-129\n",
       "Kurtosis:                       4.140   Cond. No.                     1.06e+16\n",
       "==============================================================================\n",
       "\n",
       "Warnings:\n",
       "[1] Standard Errors assume that the covariance matrix of the errors is correctly specified.\n",
       "[2] The smallest eigenvalue is 2.24e-28. This might indicate that there are\n",
       "strong multicollinearity problems or that the design matrix is singular.\n",
       "\"\"\""
      ]
     },
     "execution_count": 37,
     "metadata": {},
     "output_type": "execute_result"
    }
   ],
   "source": [
    "X_train = sm.add_constant(X_train)\n",
    "model2 = sm.OLS(y_train, X_train).fit()\n",
    "model2.summary()"
   ]
  },
  {
   "cell_type": "code",
   "execution_count": 38,
   "metadata": {},
   "outputs": [
    {
     "data": {
      "image/png": "[encoded data removed]",
      "text/plain": [
       "<Figure size 600x400 with 1 Axes>"
      ]
     },
     "metadata": {},
     "output_type": "display_data"
    },
    {
     "name": "stdout",
     "output_type": "stream",
     "text": [
      "Root Mean Squared Error (RMSE) of Test Set      : 0.163\n",
      "Root Mean Squared Error (RMSE) of Train Set     : 0.164\n"
     ]
    }
   ],
   "source": [
    "X_test = sm.add_constant(X_test)\n",
    "y_preds = model2.predict(X_test)\n",
    "X_train= sm.add_constant(X_train)\n",
    "y_preds_train = model2.predict(X_train)\n",
    "\n",
    "baslik_font = {'family': 'arial','color':  'darkred','weight': 'bold','size': 12 }\n",
    "eksen_font = {'family': 'arial','color':  'darkblue','weight': 'bold','size': 10 }\n",
    "plt.figure(dpi = 100)\n",
    "\n",
    "sns.set(color_codes=True)\n",
    "plt.scatter(y_test, y_preds)\n",
    "plt.plot(y_test, y_test, color=\"red\")\n",
    "plt.xlabel(\"Real Values\", fontdict=eksen_font)\n",
    "plt.ylabel(\"Predicted Values\", fontdict=eksen_font)\n",
    "plt.title(\"Appliances: Real and Predicted Values\", fontdict=baslik_font)\n",
    "plt.tight_layout()\n",
    "plt.show()\n",
    "\n",
    "print(\"Root Mean Squared Error (RMSE) of Test Set      : {:.3f}\".format(rmse(y_test, y_preds)))\n",
    "print(\"Root Mean Squared Error (RMSE) of Train Set     : {:.3f}\".format(rmse(y_train, y_preds_train)))"
   ]
  },
  {
   "cell_type": "code",
   "execution_count": 39,
   "metadata": {},
   "outputs": [],
   "source": [
    "# Although I have used Log transformation, i got so low R_squared."
   ]
  },
  {
   "cell_type": "markdown",
   "metadata": {},
   "source": [
    "#### Thirdly, we will use winsorized dataframe and try log transformation for dfkw."
   ]
  },
  {
   "cell_type": "code",
   "execution_count": 40,
   "metadata": {},
   "outputs": [],
   "source": [
    "df3=dfkw.copy()"
   ]
  },
  {
   "cell_type": "code",
   "execution_count": 41,
   "metadata": {},
   "outputs": [],
   "source": [
    "dflog=pd.DataFrame()\n",
    "for col in df3.columns:\n",
    "    dflog['log_%s'%col]=np.log(df3[col])"
   ]
  },
  {
   "cell_type": "code",
   "execution_count": 42,
   "metadata": {},
   "outputs": [],
   "source": [
    "from sklearn.preprocessing import MinMaxScaler\n",
    "scaler = MinMaxScaler(feature_range=(0,1))\n",
    "scaler.fit(dflog)\n",
    "min_max=scaler.transform(dflog)\n",
    "scale_df=pd.DataFrame(min_max)"
   ]
  },
  {
   "cell_type": "code",
   "execution_count": 43,
   "metadata": {},
   "outputs": [],
   "source": [
    "scale_df=scale_df.rename({0:'Appliances'},axis=1)"
   ]
  },
  {
   "cell_type": "code",
   "execution_count": 44,
   "metadata": {},
   "outputs": [],
   "source": [
    "x=scale_df.drop('Appliances',axis=1)\n",
    "y=scale_df['Appliances']"
   ]
  },
  {
   "cell_type": "code",
   "execution_count": 45,
   "metadata": {},
   "outputs": [
    {
     "name": "stdout",
     "output_type": "stream",
     "text": [
      "Train Data Count : 2632\n",
      "Test Data Count   : 658\n"
     ]
    }
   ],
   "source": [
    "X_train, X_test, y_train, y_test = train_test_split(x, y, test_size = 0.2, random_state = 465)\n",
    "print(\"Train Data Count : {}\".format(X_train.shape[0]))\n",
    "print(\"Test Data Count   : {}\".format(X_test.shape[0]))"
   ]
  },
  {
   "cell_type": "code",
   "execution_count": 46,
   "metadata": {
    "scrolled": false
   },
   "outputs": [
    {
     "data": {
      "text/html": [
       "<table class=\"simpletable\">\n",
       "<caption>OLS Regression Results</caption>\n",
       "<tr>\n",
       "  <th>Dep. Variable:</th>       <td>Appliances</td>    <th>  R-squared:         </th> <td>   0.939</td>\n",
       "</tr>\n",
       "<tr>\n",
       "  <th>Model:</th>                   <td>OLS</td>       <th>  Adj. R-squared:    </th> <td>   0.938</td>\n",
       "</tr>\n",
       "<tr>\n",
       "  <th>Method:</th>             <td>Least Squares</td>  <th>  F-statistic:       </th> <td>   1606.</td>\n",
       "</tr>\n",
       "<tr>\n",
       "  <th>Date:</th>             <td>Tue, 18 Feb 2020</td> <th>  Prob (F-statistic):</th>  <td>  0.00</td> \n",
       "</tr>\n",
       "<tr>\n",
       "  <th>Time:</th>                 <td>15:33:28</td>     <th>  Log-Likelihood:    </th> <td>  4298.9</td>\n",
       "</tr>\n",
       "<tr>\n",
       "  <th>No. Observations:</th>      <td>  2632</td>      <th>  AIC:               </th> <td>  -8546.</td>\n",
       "</tr>\n",
       "<tr>\n",
       "  <th>Df Residuals:</th>          <td>  2606</td>      <th>  BIC:               </th> <td>  -8393.</td>\n",
       "</tr>\n",
       "<tr>\n",
       "  <th>Df Model:</th>              <td>    25</td>      <th>                     </th>     <td> </td>   \n",
       "</tr>\n",
       "<tr>\n",
       "  <th>Covariance Type:</th>      <td>nonrobust</td>    <th>                     </th>     <td> </td>   \n",
       "</tr>\n",
       "</table>\n",
       "<table class=\"simpletable\">\n",
       "<tr>\n",
       "    <td></td>       <th>coef</th>     <th>std err</th>      <th>t</th>      <th>P>|t|</th>  <th>[0.025</th>    <th>0.975]</th>  \n",
       "</tr>\n",
       "<tr>\n",
       "  <th>const</th> <td>    0.0452</td> <td>    0.022</td> <td>    2.100</td> <td> 0.036</td> <td>    0.003</td> <td>    0.087</td>\n",
       "</tr>\n",
       "<tr>\n",
       "  <th>1</th>     <td>    0.0067</td> <td>    0.009</td> <td>    0.744</td> <td> 0.457</td> <td>   -0.011</td> <td>    0.024</td>\n",
       "</tr>\n",
       "<tr>\n",
       "  <th>2</th>     <td>   -0.1151</td> <td>    0.019</td> <td>   -5.969</td> <td> 0.000</td> <td>   -0.153</td> <td>   -0.077</td>\n",
       "</tr>\n",
       "<tr>\n",
       "  <th>3</th>     <td>    0.0049</td> <td>    0.004</td> <td>    1.196</td> <td> 0.232</td> <td>   -0.003</td> <td>    0.013</td>\n",
       "</tr>\n",
       "<tr>\n",
       "  <th>4</th>     <td>    0.0294</td> <td>    0.015</td> <td>    1.966</td> <td> 0.049</td> <td> 7.16e-05</td> <td>    0.059</td>\n",
       "</tr>\n",
       "<tr>\n",
       "  <th>5</th>     <td>    0.1369</td> <td>    0.018</td> <td>    7.606</td> <td> 0.000</td> <td>    0.102</td> <td>    0.172</td>\n",
       "</tr>\n",
       "<tr>\n",
       "  <th>6</th>     <td>    0.2586</td> <td>    0.020</td> <td>   13.124</td> <td> 0.000</td> <td>    0.220</td> <td>    0.297</td>\n",
       "</tr>\n",
       "<tr>\n",
       "  <th>7</th>     <td>    0.2150</td> <td>    0.021</td> <td>   10.376</td> <td> 0.000</td> <td>    0.174</td> <td>    0.256</td>\n",
       "</tr>\n",
       "<tr>\n",
       "  <th>8</th>     <td>   -0.0826</td> <td>    0.014</td> <td>   -5.795</td> <td> 0.000</td> <td>   -0.111</td> <td>   -0.055</td>\n",
       "</tr>\n",
       "<tr>\n",
       "  <th>9</th>     <td>   -0.2282</td> <td>    0.012</td> <td>  -18.348</td> <td> 0.000</td> <td>   -0.253</td> <td>   -0.204</td>\n",
       "</tr>\n",
       "<tr>\n",
       "  <th>10</th>    <td>    0.0975</td> <td>    0.015</td> <td>    6.685</td> <td> 0.000</td> <td>    0.069</td> <td>    0.126</td>\n",
       "</tr>\n",
       "<tr>\n",
       "  <th>11</th>    <td>    0.0085</td> <td>    0.006</td> <td>    1.478</td> <td> 0.140</td> <td>   -0.003</td> <td>    0.020</td>\n",
       "</tr>\n",
       "<tr>\n",
       "  <th>12</th>    <td>    0.0467</td> <td>    0.024</td> <td>    1.917</td> <td> 0.055</td> <td>   -0.001</td> <td>    0.094</td>\n",
       "</tr>\n",
       "<tr>\n",
       "  <th>13</th>    <td>    0.1477</td> <td>    0.013</td> <td>   11.549</td> <td> 0.000</td> <td>    0.123</td> <td>    0.173</td>\n",
       "</tr>\n",
       "<tr>\n",
       "  <th>14</th>    <td>   -0.1662</td> <td>    0.045</td> <td>   -3.713</td> <td> 0.000</td> <td>   -0.254</td> <td>   -0.078</td>\n",
       "</tr>\n",
       "<tr>\n",
       "  <th>15</th>    <td>    0.0202</td> <td>    0.005</td> <td>    3.740</td> <td> 0.000</td> <td>    0.010</td> <td>    0.031</td>\n",
       "</tr>\n",
       "<tr>\n",
       "  <th>16</th>    <td>   -0.0735</td> <td>    0.022</td> <td>   -3.365</td> <td> 0.001</td> <td>   -0.116</td> <td>   -0.031</td>\n",
       "</tr>\n",
       "<tr>\n",
       "  <th>17</th>    <td>    0.0266</td> <td>    0.006</td> <td>    4.789</td> <td> 0.000</td> <td>    0.016</td> <td>    0.038</td>\n",
       "</tr>\n",
       "<tr>\n",
       "  <th>18</th>    <td>   -0.0077</td> <td>    0.003</td> <td>   -2.397</td> <td> 0.017</td> <td>   -0.014</td> <td>   -0.001</td>\n",
       "</tr>\n",
       "<tr>\n",
       "  <th>19</th>    <td>    0.1988</td> <td>    0.017</td> <td>   11.637</td> <td> 0.000</td> <td>    0.165</td> <td>    0.232</td>\n",
       "</tr>\n",
       "<tr>\n",
       "  <th>20</th>    <td>    0.0240</td> <td>    0.012</td> <td>    1.938</td> <td> 0.053</td> <td>   -0.000</td> <td>    0.048</td>\n",
       "</tr>\n",
       "<tr>\n",
       "  <th>21</th>    <td>    0.0283</td> <td>    0.014</td> <td>    2.050</td> <td> 0.040</td> <td>    0.001</td> <td>    0.055</td>\n",
       "</tr>\n",
       "<tr>\n",
       "  <th>22</th>    <td>   -0.0521</td> <td>    0.023</td> <td>   -2.240</td> <td> 0.025</td> <td>   -0.098</td> <td>   -0.007</td>\n",
       "</tr>\n",
       "<tr>\n",
       "  <th>23</th>    <td>    0.1367</td> <td>    0.013</td> <td>   10.529</td> <td> 0.000</td> <td>    0.111</td> <td>    0.162</td>\n",
       "</tr>\n",
       "<tr>\n",
       "  <th>24</th>    <td>    0.2527</td> <td>    0.037</td> <td>    6.761</td> <td> 0.000</td> <td>    0.179</td> <td>    0.326</td>\n",
       "</tr>\n",
       "<tr>\n",
       "  <th>25</th>    <td>   -0.0018</td> <td>    0.003</td> <td>   -0.713</td> <td> 0.476</td> <td>   -0.007</td> <td>    0.003</td>\n",
       "</tr>\n",
       "<tr>\n",
       "  <th>26</th>    <td>   -0.0018</td> <td>    0.003</td> <td>   -0.713</td> <td> 0.476</td> <td>   -0.007</td> <td>    0.003</td>\n",
       "</tr>\n",
       "</table>\n",
       "<table class=\"simpletable\">\n",
       "<tr>\n",
       "  <th>Omnibus:</th>       <td>25.786</td> <th>  Durbin-Watson:     </th> <td>   1.933</td>\n",
       "</tr>\n",
       "<tr>\n",
       "  <th>Prob(Omnibus):</th> <td> 0.000</td> <th>  Jarque-Bera (JB):  </th> <td>  32.053</td>\n",
       "</tr>\n",
       "<tr>\n",
       "  <th>Skew:</th>          <td>-0.155</td> <th>  Prob(JB):          </th> <td>1.10e-07</td>\n",
       "</tr>\n",
       "<tr>\n",
       "  <th>Kurtosis:</th>      <td> 3.443</td> <th>  Cond. No.          </th> <td>1.07e+16</td>\n",
       "</tr>\n",
       "</table><br/><br/>Warnings:<br/>[1] Standard Errors assume that the covariance matrix of the errors is correctly specified.<br/>[2] The smallest eigenvalue is 2.16e-28. This might indicate that there are<br/>strong multicollinearity problems or that the design matrix is singular."
      ],
      "text/plain": [
       "<class 'statsmodels.iolib.summary.Summary'>\n",
       "\"\"\"\n",
       "                            OLS Regression Results                            \n",
       "==============================================================================\n",
       "Dep. Variable:             Appliances   R-squared:                       0.939\n",
       "Model:                            OLS   Adj. R-squared:                  0.938\n",
       "Method:                 Least Squares   F-statistic:                     1606.\n",
       "Date:                Tue, 18 Feb 2020   Prob (F-statistic):               0.00\n",
       "Time:                        15:33:28   Log-Likelihood:                 4298.9\n",
       "No. Observations:                2632   AIC:                            -8546.\n",
       "Df Residuals:                    2606   BIC:                            -8393.\n",
       "Df Model:                          25                                         \n",
       "Covariance Type:            nonrobust                                         \n",
       "==============================================================================\n",
       "                 coef    std err          t      P>|t|      [0.025      0.975]\n",
       "------------------------------------------------------------------------------\n",
       "const          0.0452      0.022      2.100      0.036       0.003       0.087\n",
       "1              0.0067      0.009      0.744      0.457      -0.011       0.024\n",
       "2             -0.1151      0.019     -5.969      0.000      -0.153      -0.077\n",
       "3              0.0049      0.004      1.196      0.232      -0.003       0.013\n",
       "4              0.0294      0.015      1.966      0.049    7.16e-05       0.059\n",
       "5              0.1369      0.018      7.606      0.000       0.102       0.172\n",
       "6              0.2586      0.020     13.124      0.000       0.220       0.297\n",
       "7              0.2150      0.021     10.376      0.000       0.174       0.256\n",
       "8             -0.0826      0.014     -5.795      0.000      -0.111      -0.055\n",
       "9             -0.2282      0.012    -18.348      0.000      -0.253      -0.204\n",
       "10             0.0975      0.015      6.685      0.000       0.069       0.126\n",
       "11             0.0085      0.006      1.478      0.140      -0.003       0.020\n",
       "12             0.0467      0.024      1.917      0.055      -0.001       0.094\n",
       "13             0.1477      0.013     11.549      0.000       0.123       0.173\n",
       "14            -0.1662      0.045     -3.713      0.000      -0.254      -0.078\n",
       "15             0.0202      0.005      3.740      0.000       0.010       0.031\n",
       "16            -0.0735      0.022     -3.365      0.001      -0.116      -0.031\n",
       "17             0.0266      0.006      4.789      0.000       0.016       0.038\n",
       "18            -0.0077      0.003     -2.397      0.017      -0.014      -0.001\n",
       "19             0.1988      0.017     11.637      0.000       0.165       0.232\n",
       "20             0.0240      0.012      1.938      0.053      -0.000       0.048\n",
       "21             0.0283      0.014      2.050      0.040       0.001       0.055\n",
       "22            -0.0521      0.023     -2.240      0.025      -0.098      -0.007\n",
       "23             0.1367      0.013     10.529      0.000       0.111       0.162\n",
       "24             0.2527      0.037      6.761      0.000       0.179       0.326\n",
       "25            -0.0018      0.003     -0.713      0.476      -0.007       0.003\n",
       "26            -0.0018      0.003     -0.713      0.476      -0.007       0.003\n",
       "==============================================================================\n",
       "Omnibus:                       25.786   Durbin-Watson:                   1.933\n",
       "Prob(Omnibus):                  0.000   Jarque-Bera (JB):               32.053\n",
       "Skew:                          -0.155   Prob(JB):                     1.10e-07\n",
       "Kurtosis:                       3.443   Cond. No.                     1.07e+16\n",
       "==============================================================================\n",
       "\n",
       "Warnings:\n",
       "[1] Standard Errors assume that the covariance matrix of the errors is correctly specified.\n",
       "[2] The smallest eigenvalue is 2.16e-28. This might indicate that there are\n",
       "strong multicollinearity problems or that the design matrix is singular.\n",
       "\"\"\""
      ]
     },
     "execution_count": 46,
     "metadata": {},
     "output_type": "execute_result"
    }
   ],
   "source": [
    "X_train = sm.add_constant(X_train)\n",
    "model3 = sm.OLS(y_train, X_train).fit()\n",
    "model3.summary()"
   ]
  },
  {
   "cell_type": "code",
   "execution_count": 47,
   "metadata": {},
   "outputs": [
    {
     "name": "stdout",
     "output_type": "stream",
     "text": [
      "R-squared 0.9390532546157615\n",
      "Adj. R-squared 0.9384685774727815\n"
     ]
    }
   ],
   "source": [
    "print('R-squared',model3.rsquared)\n",
    "print('Adj. R-squared',model3.rsquared_adj)"
   ]
  },
  {
   "cell_type": "code",
   "execution_count": 48,
   "metadata": {},
   "outputs": [],
   "source": [
    "X_test = sm.add_constant(X_test)\n",
    "model3_test = sm.OLS(y_test, X_test).fit()"
   ]
  },
  {
   "cell_type": "code",
   "execution_count": 49,
   "metadata": {
    "scrolled": true
   },
   "outputs": [
    {
     "name": "stdout",
     "output_type": "stream",
     "text": [
      "R-squared 0.9472462519996694\n",
      "Adj. R-squared 0.9451594739933272\n"
     ]
    }
   ],
   "source": [
    "print('R-squared',model3_test.rsquared)\n",
    "print('Adj. R-squared',model3_test.rsquared_adj)"
   ]
  },
  {
   "cell_type": "code",
   "execution_count": 50,
   "metadata": {
    "scrolled": false
   },
   "outputs": [
    {
     "data": {
      "image/png": "[encoded data removed]",
      "text/plain": [
       "<Figure size 600x400 with 1 Axes>"
      ]
     },
     "metadata": {},
     "output_type": "display_data"
    },
    {
     "name": "stdout",
     "output_type": "stream",
     "text": [
      "Root Mean Squared Error (RMSE) of Test Set         : 0.047\n",
      "Root Mean Squared Error (RMSE) of Train Set        : 0.047\n"
     ]
    }
   ],
   "source": [
    "X_test = sm.add_constant(X_test)\n",
    "y_preds = model3.predict(X_test)\n",
    "y_preds_train = model3.predict(X_train)\n",
    "\n",
    "baslik_font = {'family': 'arial','color':  'darkred','weight': 'bold','size': 12 }\n",
    "eksen_font = {'family': 'arial','color':  'darkblue','weight': 'bold','size': 10 }\n",
    "plt.figure(dpi = 100)\n",
    "\n",
    "sns.set(color_codes=True)\n",
    "plt.scatter(y_test, y_preds)\n",
    "plt.plot(y_test, y_test, color=\"red\")\n",
    "plt.xlabel(\"Real Values\", fontdict=eksen_font)\n",
    "plt.ylabel(\"Predicted Values\", fontdict=eksen_font)\n",
    "plt.title(\"Appliances: Real and Predicted Values\", fontdict=baslik_font)\n",
    "plt.tight_layout()\n",
    "plt.show()\n",
    "\n",
    "print(\"Root Mean Squared Error (RMSE) of Test Set         : {:.3f}\".format(rmse(y_test, y_preds)))\n",
    "print(\"Root Mean Squared Error (RMSE) of Train Set        : {:.3f}\".format(rmse(y_train, y_preds_train)))"
   ]
  },
  {
   "cell_type": "markdown",
   "metadata": {},
   "source": [
    "The RMSE for training and your test sets should be very similar if we want built a good model. If the RMSE for the test set is much higher than that of the training set, it is likely that you've badly overfitting of the data.\n",
    "\n",
    "For this model(model3),RMSE values is very close each other."
   ]
  },
  {
   "cell_type": "code",
   "execution_count": 51,
   "metadata": {},
   "outputs": [],
   "source": [
    "# A pretty good prediction. Let's use Polynomial Features, maybe we can do better."
   ]
  },
  {
   "cell_type": "markdown",
   "metadata": {},
   "source": [
    "#### Fourthly, we will use Polynomial Features for dfkw (first,winsorized later log transformed)\n",
    "To convert the original features into their higher order terms we will use the PolynomialFeatures class provided by scikit-learn."
   ]
  },
  {
   "cell_type": "code",
   "execution_count": 52,
   "metadata": {},
   "outputs": [],
   "source": [
    "from sklearn.preprocessing import PolynomialFeatures"
   ]
  },
  {
   "cell_type": "code",
   "execution_count": 53,
   "metadata": {},
   "outputs": [],
   "source": [
    "polynomial_features=PolynomialFeatures(degree=2)\n",
    "poly_df=scale_df.drop('Appliances',axis=1)"
   ]
  },
  {
   "cell_type": "code",
   "execution_count": 54,
   "metadata": {},
   "outputs": [
    {
     "data": {
      "text/html": [
       "<div>\n",
       "<style scoped>\n",
       "    .dataframe tbody tr th:only-of-type {\n",
       "        vertical-align: middle;\n",
       "    }\n",
       "\n",
       "    .dataframe tbody tr th {\n",
       "        vertical-align: top;\n",
       "    }\n",
       "\n",
       "    .dataframe thead th {\n",
       "        text-align: right;\n",
       "    }\n",
       "</style>\n",
       "<table border=\"1\" class=\"dataframe\">\n",
       "  <thead>\n",
       "    <tr style=\"text-align: right;\">\n",
       "      <th></th>\n",
       "      <th>0</th>\n",
       "      <th>1</th>\n",
       "      <th>2</th>\n",
       "      <th>3</th>\n",
       "      <th>4</th>\n",
       "      <th>5</th>\n",
       "      <th>6</th>\n",
       "      <th>7</th>\n",
       "      <th>8</th>\n",
       "      <th>9</th>\n",
       "      <th>...</th>\n",
       "      <th>368</th>\n",
       "      <th>369</th>\n",
       "      <th>370</th>\n",
       "      <th>371</th>\n",
       "      <th>372</th>\n",
       "      <th>373</th>\n",
       "      <th>374</th>\n",
       "      <th>375</th>\n",
       "      <th>376</th>\n",
       "      <th>377</th>\n",
       "    </tr>\n",
       "  </thead>\n",
       "  <tbody>\n",
       "    <tr>\n",
       "      <td>0</td>\n",
       "      <td>1.0</td>\n",
       "      <td>0.963020</td>\n",
       "      <td>0.170586</td>\n",
       "      <td>0.339406</td>\n",
       "      <td>0.141757</td>\n",
       "      <td>0.809116</td>\n",
       "      <td>0.351192</td>\n",
       "      <td>0.779685</td>\n",
       "      <td>0.272337</td>\n",
       "      <td>0.322425</td>\n",
       "      <td>...</td>\n",
       "      <td>0.539135</td>\n",
       "      <td>0.403673</td>\n",
       "      <td>0.530591</td>\n",
       "      <td>0.530591</td>\n",
       "      <td>0.302247</td>\n",
       "      <td>0.397276</td>\n",
       "      <td>0.397276</td>\n",
       "      <td>0.522182</td>\n",
       "      <td>0.522182</td>\n",
       "      <td>0.522182</td>\n",
       "    </tr>\n",
       "    <tr>\n",
       "      <td>1</td>\n",
       "      <td>1.0</td>\n",
       "      <td>0.970480</td>\n",
       "      <td>0.175570</td>\n",
       "      <td>0.936523</td>\n",
       "      <td>0.143145</td>\n",
       "      <td>0.778096</td>\n",
       "      <td>0.358954</td>\n",
       "      <td>0.771221</td>\n",
       "      <td>0.270206</td>\n",
       "      <td>0.319898</td>\n",
       "      <td>...</td>\n",
       "      <td>0.530224</td>\n",
       "      <td>0.386993</td>\n",
       "      <td>0.430716</td>\n",
       "      <td>0.430716</td>\n",
       "      <td>0.282453</td>\n",
       "      <td>0.314365</td>\n",
       "      <td>0.314365</td>\n",
       "      <td>0.349883</td>\n",
       "      <td>0.349883</td>\n",
       "      <td>0.349883</td>\n",
       "    </tr>\n",
       "    <tr>\n",
       "      <td>2</td>\n",
       "      <td>1.0</td>\n",
       "      <td>0.972777</td>\n",
       "      <td>0.235195</td>\n",
       "      <td>0.926776</td>\n",
       "      <td>0.249703</td>\n",
       "      <td>1.000000</td>\n",
       "      <td>0.432851</td>\n",
       "      <td>0.843262</td>\n",
       "      <td>0.300262</td>\n",
       "      <td>0.326214</td>\n",
       "      <td>...</td>\n",
       "      <td>0.531438</td>\n",
       "      <td>0.378339</td>\n",
       "      <td>0.646154</td>\n",
       "      <td>0.646154</td>\n",
       "      <td>0.269345</td>\n",
       "      <td>0.460007</td>\n",
       "      <td>0.460007</td>\n",
       "      <td>0.785632</td>\n",
       "      <td>0.785632</td>\n",
       "      <td>0.785632</td>\n",
       "    </tr>\n",
       "    <tr>\n",
       "      <td>3</td>\n",
       "      <td>1.0</td>\n",
       "      <td>0.969805</td>\n",
       "      <td>0.214280</td>\n",
       "      <td>0.759500</td>\n",
       "      <td>0.332541</td>\n",
       "      <td>0.903500</td>\n",
       "      <td>0.469426</td>\n",
       "      <td>0.824466</td>\n",
       "      <td>0.317466</td>\n",
       "      <td>0.349086</td>\n",
       "      <td>...</td>\n",
       "      <td>0.520541</td>\n",
       "      <td>0.361764</td>\n",
       "      <td>0.498915</td>\n",
       "      <td>0.498915</td>\n",
       "      <td>0.251418</td>\n",
       "      <td>0.346734</td>\n",
       "      <td>0.346734</td>\n",
       "      <td>0.478187</td>\n",
       "      <td>0.478187</td>\n",
       "      <td>0.478187</td>\n",
       "    </tr>\n",
       "    <tr>\n",
       "      <td>4</td>\n",
       "      <td>1.0</td>\n",
       "      <td>0.967786</td>\n",
       "      <td>0.236501</td>\n",
       "      <td>0.662097</td>\n",
       "      <td>0.394830</td>\n",
       "      <td>0.772547</td>\n",
       "      <td>0.507206</td>\n",
       "      <td>0.794688</td>\n",
       "      <td>0.334425</td>\n",
       "      <td>0.373316</td>\n",
       "      <td>...</td>\n",
       "      <td>0.503071</td>\n",
       "      <td>0.348989</td>\n",
       "      <td>0.333219</td>\n",
       "      <td>0.333219</td>\n",
       "      <td>0.242100</td>\n",
       "      <td>0.231160</td>\n",
       "      <td>0.231160</td>\n",
       "      <td>0.220715</td>\n",
       "      <td>0.220715</td>\n",
       "      <td>0.220715</td>\n",
       "    </tr>\n",
       "  </tbody>\n",
       "</table>\n",
       "<p>5 rows × 378 columns</p>\n",
       "</div>"
      ],
      "text/plain": [
       "   0         1         2         3         4         5         6         7    \\\n",
       "0  1.0  0.963020  0.170586  0.339406  0.141757  0.809116  0.351192  0.779685   \n",
       "1  1.0  0.970480  0.175570  0.936523  0.143145  0.778096  0.358954  0.771221   \n",
       "2  1.0  0.972777  0.235195  0.926776  0.249703  1.000000  0.432851  0.843262   \n",
       "3  1.0  0.969805  0.214280  0.759500  0.332541  0.903500  0.469426  0.824466   \n",
       "4  1.0  0.967786  0.236501  0.662097  0.394830  0.772547  0.507206  0.794688   \n",
       "\n",
       "        8         9    ...       368       369       370       371       372  \\\n",
       "0  0.272337  0.322425  ...  0.539135  0.403673  0.530591  0.530591  0.302247   \n",
       "1  0.270206  0.319898  ...  0.530224  0.386993  0.430716  0.430716  0.282453   \n",
       "2  0.300262  0.326214  ...  0.531438  0.378339  0.646154  0.646154  0.269345   \n",
       "3  0.317466  0.349086  ...  0.520541  0.361764  0.498915  0.498915  0.251418   \n",
       "4  0.334425  0.373316  ...  0.503071  0.348989  0.333219  0.333219  0.242100   \n",
       "\n",
       "        373       374       375       376       377  \n",
       "0  0.397276  0.397276  0.522182  0.522182  0.522182  \n",
       "1  0.314365  0.314365  0.349883  0.349883  0.349883  \n",
       "2  0.460007  0.460007  0.785632  0.785632  0.785632  \n",
       "3  0.346734  0.346734  0.478187  0.478187  0.478187  \n",
       "4  0.231160  0.231160  0.220715  0.220715  0.220715  \n",
       "\n",
       "[5 rows x 378 columns]"
      ]
     },
     "execution_count": 54,
     "metadata": {},
     "output_type": "execute_result"
    }
   ],
   "source": [
    "poly_df1= polynomial_features.fit_transform(poly_df)\n",
    "poly_df2 = pd.DataFrame(poly_df1)\n",
    "poly_df2.head()"
   ]
  },
  {
   "cell_type": "code",
   "execution_count": 55,
   "metadata": {
    "scrolled": true
   },
   "outputs": [
    {
     "data": {
      "text/html": [
       "<div>\n",
       "<style scoped>\n",
       "    .dataframe tbody tr th:only-of-type {\n",
       "        vertical-align: middle;\n",
       "    }\n",
       "\n",
       "    .dataframe tbody tr th {\n",
       "        vertical-align: top;\n",
       "    }\n",
       "\n",
       "    .dataframe thead th {\n",
       "        text-align: right;\n",
       "    }\n",
       "</style>\n",
       "<table border=\"1\" class=\"dataframe\">\n",
       "  <thead>\n",
       "    <tr style=\"text-align: right;\">\n",
       "      <th></th>\n",
       "      <th>1</th>\n",
       "      <th>x0</th>\n",
       "      <th>x1</th>\n",
       "      <th>x2</th>\n",
       "      <th>x3</th>\n",
       "      <th>x4</th>\n",
       "      <th>x5</th>\n",
       "      <th>x6</th>\n",
       "      <th>x7</th>\n",
       "      <th>x8</th>\n",
       "      <th>...</th>\n",
       "      <th>x22^2</th>\n",
       "      <th>x22 x23</th>\n",
       "      <th>x22 x24</th>\n",
       "      <th>x22 x25</th>\n",
       "      <th>x23^2</th>\n",
       "      <th>x23 x24</th>\n",
       "      <th>x23 x25</th>\n",
       "      <th>x24^2</th>\n",
       "      <th>x24 x25</th>\n",
       "      <th>x25^2</th>\n",
       "    </tr>\n",
       "  </thead>\n",
       "  <tbody>\n",
       "    <tr>\n",
       "      <td>0</td>\n",
       "      <td>1.0</td>\n",
       "      <td>0.963020</td>\n",
       "      <td>0.170586</td>\n",
       "      <td>0.339406</td>\n",
       "      <td>0.141757</td>\n",
       "      <td>0.809116</td>\n",
       "      <td>0.351192</td>\n",
       "      <td>0.779685</td>\n",
       "      <td>0.272337</td>\n",
       "      <td>0.322425</td>\n",
       "      <td>...</td>\n",
       "      <td>0.539135</td>\n",
       "      <td>0.403673</td>\n",
       "      <td>0.530591</td>\n",
       "      <td>0.530591</td>\n",
       "      <td>0.302247</td>\n",
       "      <td>0.397276</td>\n",
       "      <td>0.397276</td>\n",
       "      <td>0.522182</td>\n",
       "      <td>0.522182</td>\n",
       "      <td>0.522182</td>\n",
       "    </tr>\n",
       "    <tr>\n",
       "      <td>1</td>\n",
       "      <td>1.0</td>\n",
       "      <td>0.970480</td>\n",
       "      <td>0.175570</td>\n",
       "      <td>0.936523</td>\n",
       "      <td>0.143145</td>\n",
       "      <td>0.778096</td>\n",
       "      <td>0.358954</td>\n",
       "      <td>0.771221</td>\n",
       "      <td>0.270206</td>\n",
       "      <td>0.319898</td>\n",
       "      <td>...</td>\n",
       "      <td>0.530224</td>\n",
       "      <td>0.386993</td>\n",
       "      <td>0.430716</td>\n",
       "      <td>0.430716</td>\n",
       "      <td>0.282453</td>\n",
       "      <td>0.314365</td>\n",
       "      <td>0.314365</td>\n",
       "      <td>0.349883</td>\n",
       "      <td>0.349883</td>\n",
       "      <td>0.349883</td>\n",
       "    </tr>\n",
       "    <tr>\n",
       "      <td>2</td>\n",
       "      <td>1.0</td>\n",
       "      <td>0.972777</td>\n",
       "      <td>0.235195</td>\n",
       "      <td>0.926776</td>\n",
       "      <td>0.249703</td>\n",
       "      <td>1.000000</td>\n",
       "      <td>0.432851</td>\n",
       "      <td>0.843262</td>\n",
       "      <td>0.300262</td>\n",
       "      <td>0.326214</td>\n",
       "      <td>...</td>\n",
       "      <td>0.531438</td>\n",
       "      <td>0.378339</td>\n",
       "      <td>0.646154</td>\n",
       "      <td>0.646154</td>\n",
       "      <td>0.269345</td>\n",
       "      <td>0.460007</td>\n",
       "      <td>0.460007</td>\n",
       "      <td>0.785632</td>\n",
       "      <td>0.785632</td>\n",
       "      <td>0.785632</td>\n",
       "    </tr>\n",
       "    <tr>\n",
       "      <td>3</td>\n",
       "      <td>1.0</td>\n",
       "      <td>0.969805</td>\n",
       "      <td>0.214280</td>\n",
       "      <td>0.759500</td>\n",
       "      <td>0.332541</td>\n",
       "      <td>0.903500</td>\n",
       "      <td>0.469426</td>\n",
       "      <td>0.824466</td>\n",
       "      <td>0.317466</td>\n",
       "      <td>0.349086</td>\n",
       "      <td>...</td>\n",
       "      <td>0.520541</td>\n",
       "      <td>0.361764</td>\n",
       "      <td>0.498915</td>\n",
       "      <td>0.498915</td>\n",
       "      <td>0.251418</td>\n",
       "      <td>0.346734</td>\n",
       "      <td>0.346734</td>\n",
       "      <td>0.478187</td>\n",
       "      <td>0.478187</td>\n",
       "      <td>0.478187</td>\n",
       "    </tr>\n",
       "    <tr>\n",
       "      <td>4</td>\n",
       "      <td>1.0</td>\n",
       "      <td>0.967786</td>\n",
       "      <td>0.236501</td>\n",
       "      <td>0.662097</td>\n",
       "      <td>0.394830</td>\n",
       "      <td>0.772547</td>\n",
       "      <td>0.507206</td>\n",
       "      <td>0.794688</td>\n",
       "      <td>0.334425</td>\n",
       "      <td>0.373316</td>\n",
       "      <td>...</td>\n",
       "      <td>0.503071</td>\n",
       "      <td>0.348989</td>\n",
       "      <td>0.333219</td>\n",
       "      <td>0.333219</td>\n",
       "      <td>0.242100</td>\n",
       "      <td>0.231160</td>\n",
       "      <td>0.231160</td>\n",
       "      <td>0.220715</td>\n",
       "      <td>0.220715</td>\n",
       "      <td>0.220715</td>\n",
       "    </tr>\n",
       "  </tbody>\n",
       "</table>\n",
       "<p>5 rows × 378 columns</p>\n",
       "</div>"
      ],
      "text/plain": [
       "     1        x0        x1        x2        x3        x4        x5        x6  \\\n",
       "0  1.0  0.963020  0.170586  0.339406  0.141757  0.809116  0.351192  0.779685   \n",
       "1  1.0  0.970480  0.175570  0.936523  0.143145  0.778096  0.358954  0.771221   \n",
       "2  1.0  0.972777  0.235195  0.926776  0.249703  1.000000  0.432851  0.843262   \n",
       "3  1.0  0.969805  0.214280  0.759500  0.332541  0.903500  0.469426  0.824466   \n",
       "4  1.0  0.967786  0.236501  0.662097  0.394830  0.772547  0.507206  0.794688   \n",
       "\n",
       "         x7        x8  ...     x22^2   x22 x23   x22 x24   x22 x25     x23^2  \\\n",
       "0  0.272337  0.322425  ...  0.539135  0.403673  0.530591  0.530591  0.302247   \n",
       "1  0.270206  0.319898  ...  0.530224  0.386993  0.430716  0.430716  0.282453   \n",
       "2  0.300262  0.326214  ...  0.531438  0.378339  0.646154  0.646154  0.269345   \n",
       "3  0.317466  0.349086  ...  0.520541  0.361764  0.498915  0.498915  0.251418   \n",
       "4  0.334425  0.373316  ...  0.503071  0.348989  0.333219  0.333219  0.242100   \n",
       "\n",
       "    x23 x24   x23 x25     x24^2   x24 x25     x25^2  \n",
       "0  0.397276  0.397276  0.522182  0.522182  0.522182  \n",
       "1  0.314365  0.314365  0.349883  0.349883  0.349883  \n",
       "2  0.460007  0.460007  0.785632  0.785632  0.785632  \n",
       "3  0.346734  0.346734  0.478187  0.478187  0.478187  \n",
       "4  0.231160  0.231160  0.220715  0.220715  0.220715  \n",
       "\n",
       "[5 rows x 378 columns]"
      ]
     },
     "execution_count": 55,
     "metadata": {},
     "output_type": "execute_result"
    }
   ],
   "source": [
    "poly_df2.columns=polynomial_features.get_feature_names()\n",
    "poly_df2.head()"
   ]
  },
  {
   "cell_type": "code",
   "execution_count": 56,
   "metadata": {
    "scrolled": true
   },
   "outputs": [
    {
     "data": {
      "text/plain": [
       "Appliances    1.000000\n",
       "x12 x18       0.932759\n",
       "x4 x12        0.930339\n",
       "x4 x20        0.925294\n",
       "x4 x22        0.919316\n",
       "x4 x18        0.915676\n",
       "x12 x22       0.907192\n",
       "x18 x22       0.907050\n",
       "x18 x20       0.904990\n",
       "x18           0.899015\n",
       "Name: Appliances, dtype: float64"
      ]
     },
     "execution_count": 56,
     "metadata": {},
     "output_type": "execute_result"
    }
   ],
   "source": [
    "poly_df2['Appliances']=scale_df['Appliances']\n",
    "high_corr=poly_df2.corr().Appliances.abs().sort_values(ascending=False).index[0:10]\n",
    "poly_df2[high_corr].corr().Appliances"
   ]
  },
  {
   "cell_type": "code",
   "execution_count": 57,
   "metadata": {},
   "outputs": [],
   "source": [
    "# Now, we can start to built the model."
   ]
  },
  {
   "cell_type": "code",
   "execution_count": 58,
   "metadata": {},
   "outputs": [],
   "source": [
    "X=poly_df2.drop('Appliances',axis=1)\n",
    "Y=poly_df2.Appliances\n"
   ]
  },
  {
   "cell_type": "code",
   "execution_count": 59,
   "metadata": {},
   "outputs": [
    {
     "name": "stdout",
     "output_type": "stream",
     "text": [
      "Train Data Count: 2632\n",
      "Test Data Count: 658\n"
     ]
    }
   ],
   "source": [
    "X_train, X_test, y_train, y_test = train_test_split(X, Y, test_size = 0.2, random_state = 465)\n",
    "\n",
    "print('Train Data Count: {}'.format(X_train.shape[0]))\n",
    "print('Test Data Count: {}'.format(X_test.shape[0]))"
   ]
  },
  {
   "cell_type": "code",
   "execution_count": 60,
   "metadata": {
    "scrolled": false
   },
   "outputs": [
    {
     "name": "stdout",
     "output_type": "stream",
     "text": [
      "R-squared 0.9732527169047198\n",
      "Adj. R-squared 0.9691485743868119\n"
     ]
    }
   ],
   "source": [
    "X_train = sm.add_constant(X_train)\n",
    "model4= sm.OLS(y_train, X_train).fit()\n",
    "print('R-squared',model4.rsquared)\n",
    "print('Adj. R-squared',model4.rsquared_adj)"
   ]
  },
  {
   "cell_type": "code",
   "execution_count": 61,
   "metadata": {},
   "outputs": [],
   "source": [
    "X_test = sm.add_constant(X_test)\n",
    "model4_test = sm.OLS(y_test, X_test).fit()"
   ]
  },
  {
   "cell_type": "code",
   "execution_count": 62,
   "metadata": {},
   "outputs": [
    {
     "name": "stdout",
     "output_type": "stream",
     "text": [
      "R-squared 0.9907996461188884\n",
      "Adj. R-squared 0.9803106433228328\n"
     ]
    }
   ],
   "source": [
    "print('R-squared',model4_test.rsquared)\n",
    "print('Adj. R-squared',model4_test.rsquared_adj)"
   ]
  },
  {
   "cell_type": "code",
   "execution_count": 63,
   "metadata": {},
   "outputs": [],
   "source": [
    "# This model's is the best result."
   ]
  },
  {
   "cell_type": "code",
   "execution_count": 64,
   "metadata": {
    "scrolled": true
   },
   "outputs": [
    {
     "data": {
      "image/png": "[encoded data removed]",
      "text/plain": [
       "<Figure size 600x400 with 1 Axes>"
      ]
     },
     "metadata": {},
     "output_type": "display_data"
    },
    {
     "name": "stdout",
     "output_type": "stream",
     "text": [
      "Root Mean Squared Error (RMSE) of Test Set         : 0.038\n",
      "Root Mean Squared Error (RMSE) of Train Set        : 0.031\n"
     ]
    }
   ],
   "source": [
    "X_test = sm.add_constant(X_test)\n",
    "y_preds = model4.predict(X_test)\n",
    "y_preds_train =model4.predict(X_train)\n",
    "\n",
    "baslik_font = {'family': 'arial','color':  'darkred','weight': 'bold','size': 12 }\n",
    "eksen_font = {'family': 'arial','color':  'darkblue','weight': 'bold','size': 10 }\n",
    "plt.figure(dpi = 100)\n",
    "\n",
    "sns.set(color_codes=True)\n",
    "plt.scatter(y_test, y_preds)\n",
    "plt.plot(y_test, y_test, color=\"red\")\n",
    "plt.xlabel(\"Real Values\", fontdict=eksen_font)\n",
    "plt.ylabel(\"Predicted Values\", fontdict=eksen_font)\n",
    "plt.title(\"Appliances: Real and Predicted Values\", fontdict=baslik_font)\n",
    "plt.show()\n",
    "pd.options.display.float_format = '${:,.3f}'.format\n",
    "print(\"Root Mean Squared Error (RMSE) of Test Set         : {:.3f}\".format(rmse(y_test, y_preds)))\n",
    "print(\"Root Mean Squared Error (RMSE) of Train Set        : {:.3f}\".format(rmse(y_train, y_preds_train)))"
   ]
  },
  {
   "cell_type": "markdown",
   "metadata": {},
   "source": [
    "### 7. Results"
   ]
  },
  {
   "attachments": {},
   "cell_type": "markdown",
   "metadata": {},
   "source": [
    "As observed from results, Polynomial Features performs better than all other regression models in terms of all metrics.\n",
    "In fact, this study reminded us the importance of the analysis part before establishing machine learning models. While setting up our regression models, an iterative process should be followed and changes should be made to increase the prediction performance by going back to the beginning."
   ]
  }
 ],
 "metadata": {
  "kernelspec": {
   "display_name": "Python 3",
   "language": "python",
   "name": "python3"
  },
  "language_info": {
   "codemirror_mode": {
    "name": "ipython",
    "version": 3
   },
   "file_extension": ".py",
   "mimetype": "text/x-python",
   "name": "python",
   "nbconvert_exporter": "python",
   "pygments_lexer": "ipython3",
   "version": "3.7.4"
  }
 },
 "nbformat": 4,
 "nbformat_minor": 2
}
